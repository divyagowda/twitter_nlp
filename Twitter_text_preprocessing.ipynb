{
 "cells": [
  {
   "cell_type": "markdown",
   "metadata": {},
   "source": [
    "**Advantages and disadvantages of various text encoding techniques like OHE, BOW, N-Gram and TF-IDF**\n",
    "| **** | **OHE** | **BOW** | **N\\-Gram** | **TF\\-IDF** |\n",
    "|:---:|:---:|:---:|:---:|:---:|\n",
    "| **Advantages** | Simple Implementation: One\\-hot encoding is straightforward to implement and understand\\. Each word or token is represented by a vector with a length equal to the vocabulary size, where only one element is set to 1 \\(indicating the presence of the word\\) and all others are set to 0\\. | Simplicity: Bag\\-of\\-Words is relatively simple to understand and implement\\. It involves counting the frequency of each word in the document, creating a vector representation based on these counts\\. | Preservation of Local Context: N\\-gram encoding captures local context by considering sequences of words \\(or characters\\) instead of individual tokens\\. This can help in preserving some degree of syntactic and semantic information, especially in tasks where local context is important, such as sentiment analysis or named entity recognition\\. | Reflects Importance: TF\\-IDF captures the importance of a term within a document by considering both its frequency \\(TF\\) and its rarity across the entire document collection \\(IDF\\)\\. Terms that appear frequently in a document but rarely in other documents are assigned higher weights, reflecting their significance\\. |\n",
    "| **** | Independence from Vocabulary Size: One\\-hot encoding is not affected by the size of the vocabulary\\. Each word is represented independently of other words, making it suitable for datasets with a large vocabulary\\. | Flexibility: BOW can be easily adapted to different tasks and datasets\\. It can handle various types of text data, including documents of different lengths and languages\\. | Flexibility in Granularity: N\\-gram encoding allows flexibility in the choice of N, the size of the sequence\\. By varying N, you can capture different levels of linguistic information, ranging from individual words \\(unigrams\\) to larger phrases or sentences \\(bigrams, trigrams, etc\\.\\)\\. This flexibility can be beneficial in capturing different aspects of the text data\\. | Reduces Impact of Common Terms: TF\\-IDF reduces the influence of common terms that appear in many documents by assigning them lower weights\\. This helps in emphasizing the discriminative power of less frequent terms, which are often more informative for distinguishing between documents\\. |\n",
    "| **** | Interpretability: One\\-hot encoding provides a clear and interpretable representation of the data\\. Each dimension of the one\\-hot encoded vector corresponds directly to a specific word or token in the vocabulary\\. | Interpretability: The resulting BOW representation provides some interpretability, as each dimension in the vector corresponds to a specific word, and the value represents the frequency of that word in the document\\. | Reduction of Dimensionality: Compared to one\\-hot encoding or bag\\-of\\-words, N\\-gram encoding can potentially reduce the dimensionality of the feature space, especially when using higher\\-order N\\-grams\\. By capturing sequences of words, it can help in reducing the sparsity of the feature representation, which can be advantageous for memory and computational efficiency\\. | Simple and Efficient: TF\\-IDF is relatively simple to compute and implement\\. It does not require complex modeling or training and can be efficiently calculated using standard algorithms\\. Additionally, TF\\-IDF matrices tend to be sparse, which further improves computational efficiency and memory usage\\. |\n",
    "| **** | Useful for Sparse Data: One\\-hot encoding works well with sparse data, where most of the values in the encoded vectors are zero\\. This can be advantageous for memory efficiency and computational performance\\. | Efficiency with Occurrence Information: BOW preserves some information about word occurrence, which can be useful in certain applications where word presence or absence is more relevant than the order or context of words\\. | Robustness to Spelling Variations and Typos: N\\-gram encoding can be robust to spelling variations and typos since it considers sequences of characters or words rather than individual tokens\\. This can help in capturing similar textual patterns even when there are slight variations in the input text\\. | Language Agnostic: TF\\-IDF is language\\-agnostic and can be applied to text data in any language without requiring language\\-specific preprocessing or feature engineering\\. This makes it widely applicable across different domains and languages\\. |\n",
    "| **** | Applicability to Various Machine Learning Models: One\\-hot encoding is compatible with a wide range of machine learning models, including linear models, tree\\-based models, and neural networks\\. It can be easily incorporated into different types of algorithms without requiring complex modifications\\. | Compatibility with Traditional ML Models: BOW representations are compatible with traditional machine learning models such as Naive Bayes, Logistic Regression, and Support Vector Machines\\. These models can directly operate on the vectorized representations without requiring additional preprocessing\\. | Capturing Phrase\\-Level Information: N\\-gram encoding can capture phrase\\-level information, allowing the model to learn from common phrases or expressions in the text\\. This can be particularly useful in tasks where understanding multi\\-word expressions or idiomatic language is important, such as in sentiment analysis or machine translation\\. | Interpretability: TF\\-IDF provides some level of interpretability, as the resulting weights indicate the importance of each term within a document\\. This allows users to gain insights into the key terms that contribute to the representation of a document and can aid in tasks such as document summarization or keyword extraction\\. |\n",
    "| **Disadvantages** | High Dimensionality: One\\-hot encoding leads to high\\-dimensional feature vectors, especially in datasets with large vocabularies\\. This can result in increased memory requirements and computational complexity, especially when dealing with text datasets with a vast number of unique words\\. | Loss of Sequence Information: BOW discards the order and sequence of words in the text, treating each document as an unordered collection of words\\. This can lead to a loss of valuable information, especially in tasks where word order or context is crucial, such as sentiment analysis or natural language understanding\\. | Increased Data Sparsity: Using higher\\-order N\\-grams can lead to increased data sparsity, especially in datasets with limited occurrences of specific sequences\\. This can result in less reliable estimates of the frequency of rare N\\-grams and may lead to overfitting or poor generalization performance, especially in the case of smaller datasets\\. | Limited Semantic Understanding: TF\\-IDF does not capture semantic relationships between terms and relies solely on term frequencies and document frequencies\\. As a result, it may struggle to understand the semantic context or meaning of terms, leading to limitations in tasks requiring deeper semantic understanding, such as natural language understanding or question answering\\. |\n",
    "| **** | Loss of Semantic Information: One\\-hot encoding treats each word as independent, ignoring any semantic relationships or similarities between words\\. Consequently, it does not capture the semantic meaning of words or their contextual information, which may limit the performance of models, especially in tasks requiring understanding of language semantics\\. | High Dimensionality: BOW representations can lead to high\\-dimensional feature spaces, especially in large vocabularies or datasets with many unique words\\. This can result in increased memory and computational requirements, as well as the curse of dimensionality, where the number of features surpasses the available data points\\. | Higher Memory and Computational Requirements: Encoding text using N\\-grams can lead to higher memory and computational requirements compared to simpler encoding methods like one\\-hot encoding or bag\\-of\\-words, especially when using higher\\-order N\\-grams\\. This is due to the increased number of features and the need to store and process the sequences\\. | Insensitive to Word Order: TF\\-IDF treats documents as bags of words and ignores the order and context of terms within the document\\. This can be a disadvantage in tasks where word order or sequence information is crucial, such as sentiment analysis or text generation\\. |\n",
    "| **** | Inability to Represent Out\\-of\\-Vocabulary Words: One\\-hot encoding cannot handle out\\-of\\-vocabulary words that were not seen during training\\. When encountering unseen words during inference, it either requires special handling or leads to incomplete representations, potentially affecting model performance\\. | Sparse Representation: BOW vectors are often sparse, containing mostly zeros, especially in datasets with a large vocabulary or long documents\\. Sparse representations can be inefficient for storage and computation, and they may require special handling in certain machine learning algorithms\\. | Loss of Global Context: While N\\-gram encoding captures local context, it may suffer from the loss of global context, as it focuses only on contiguous sequences of words or characters within a fixed window size\\. This can limit its ability to capture long\\-range dependencies or understand the overall structure of the text, which may be important in certain tasks such as document classification or language modeling\\. | Vocabulary Size Sensitivity: TF\\-IDF is sensitive to the size of the vocabulary and the prevalence of rare terms in the document collection\\. Large vocabularies or datasets with many rare terms can lead to sparse TF\\-IDF matrices, which may require additional preprocessing or regularization techniques to handle effectively\\. |\n",
    "| **** | No Information about Word Frequency: One\\-hot encoding does not preserve information about the frequency of words in the text\\. All words are treated equally, regardless of their importance or frequency in the dataset, which may lead to suboptimal performance in tasks where word frequency is relevant\\. | Ignoring Semantic Relationships: BOW treats each word as an independent feature, ignoring any semantic relationships or similarities between words\\. This limitation can hinder the performance of models, particularly in tasks requiring understanding of language semantics or context\\. | Vocabulary Size Sensitivity: N\\-gram encoding is sensitive to the size of the vocabulary and the choice of N\\. Larger vocabularies or higher\\-order N\\-grams can lead to an explosion in the number of features, resulting in increased computational complexity and potential overfitting, especially in the case of limited training data\\. | Difficulty with Synonyms and Polysemy: TF\\-IDF may struggle to differentiate between synonyms or terms with multiple meanings \\(polysemy\\) since it relies solely on term frequency and document frequency\\. This can lead to inconsistencies in the representation of semantically similar terms, potentially affecting the performance of downstream tasks\\. |\n",
    "| **** | Lack of Continuity and Smoothness: One\\-hot encoded vectors are discrete and lack continuity, which can pose challenges for certain machine learning algorithms, such as neural networks, that benefit from continuous representations and smooth gradients during training\\. This discontinuity may lead to difficulties in convergence and optimization\\. | Vulnerability to Synonyms and Polysemy: BOW does not differentiate between synonyms or different meanings of the same word \\(polysemy\\)\\. Consequently, words with similar meanings may be represented differently, leading to a loss of discriminative power and potentially affecting model performance, especially in tasks requiring nuanced understanding of language\\. | Inability to Capture Semantic Relationships: N\\-gram encoding treats each sequence of words as a separate feature, without capturing semantic relationships between different sequences\\. This can limit its ability to understand the semantic meaning of the text or to generalize well to unseen sequences, especially in tasks requiring deeper semantic understanding, such as question answering or natural language inference\\. | Limited Handling of Out\\-of\\-Vocabulary Terms: TF\\-IDF does not explicitly handle out\\-of\\-vocabulary terms that were not seen during training\\. While it can assign weights to unseen terms based on their IDF scores, it may not fully capture their importance or relevance, especially if they are entirely absent from the document collection\\. |\n"
   ]
  },
  {
   "attachments": {
    "nlp-important-use-cases-min.png": {
     "image/png": "[encoded data removed]"
    }
   },
   "cell_type": "markdown",
   "metadata": {
    "papermill": {
     "duration": 0.051323,
     "end_time": "2021-04-17T06:47:31.282287",
     "exception": false,
     "start_time": "2021-04-17T06:47:31.230964",
     "status": "completed"
    },
    "tags": []
   },
   "source": [
    "# **What is NATURAL LANGUAGE PROCESSING?**\n",
    "\n",
    "**Natural Language Processing and Machine Learning make it possible to build robust models with the storage capacity and processing power available to us today. Natural Language Processing concepts deal with processing human langauge while discovering patterns, relationships and, semantics present in large amounts of data.**\n",
    "\n",
    "![nlp-important-use-cases-min.png](attachment:nlp-important-use-cases-min.png)"
   ]
  },
  {
   "attachments": {},
   "cell_type": "markdown",
   "metadata": {
    "papermill": {
     "duration": 0.050824,
     "end_time": "2021-04-17T06:47:31.382885",
     "exception": false,
     "start_time": "2021-04-17T06:47:31.332061",
     "status": "completed"
    },
    "tags": []
   },
   "source": [
    "# **Description**\n",
    "\n",
    "**This is a assignment notebook for NLP in text processing. It covers Data Preprocessing and Feature Engineering in detail like tokenization,normalization, vectorization, cleaning of input data and basic analysis. Trying to implement the code using ntlk, spacy and textblob.**\n"
   ]
  },
  {
   "cell_type": "markdown",
   "metadata": {
    "papermill": {
     "duration": 0.049228,
     "end_time": "2021-04-17T06:47:31.512683",
     "exception": false,
     "start_time": "2021-04-17T06:47:31.463455",
     "status": "completed"
    },
    "tags": []
   },
   "source": [
    "# **Content**\n",
    "\n",
    "* **ENVIRONMENT SETUP**\n",
    "    * Install Packages\n",
    "    * Import Packages\n",
    "    \n",
    "\n",
    "* **DATA PREPROCESSING**\n",
    "    * Data Loading\n",
    "    * Preliminary Analysis\n",
    "    * Sentence Tokenization\n",
    "    * Word Tokenization\n",
    "    * Stopword Removal\n",
    "    * Removal of Tags\n",
    "    * Delimiter Removal\n",
    "    * Spell Check \n",
    "    * Stemming\n",
    "    * Lemmatization\n",
    "    \n",
    "    \n",
    "* **FEATURE ENGINEERING**\n",
    "    * Encoding    \n",
    "    * POS Tagger\n",
    "    * N-GRAM\n",
    "    * Bag Of Words\n",
    "    * TF\n",
    "    * TF-IDF\n",
    "    * Dependency Parser\n",
    "    * Named Entity Recognition\n",
    "    * Word Embedding\n",
    "    * Sentiment Analysis\n",
    "    * Subjectivity Detection"
   ]
  },
  {
   "cell_type": "markdown",
   "metadata": {
    "papermill": {
     "duration": 0.048848,
     "end_time": "2021-04-17T06:47:31.610942",
     "exception": false,
     "start_time": "2021-04-17T06:47:31.562094",
     "status": "completed"
    },
    "tags": []
   },
   "source": [
    "# **ENVIRONMENT SETUP**"
   ]
  },
  {
   "cell_type": "markdown",
   "metadata": {
    "papermill": {
     "duration": 0.048941,
     "end_time": "2021-04-17T06:47:31.709294",
     "exception": false,
     "start_time": "2021-04-17T06:47:31.660353",
     "status": "completed"
    },
    "tags": []
   },
   "source": [
    "# **Install Packages**"
   ]
  },
  {
   "cell_type": "code",
   "execution_count": 1,
   "metadata": {
    "_kg_hide-output": true,
    "execution": {
     "iopub.execute_input": "2021-04-17T06:47:31.814334Z",
     "iopub.status.busy": "2021-04-17T06:47:31.813669Z",
     "iopub.status.idle": "2021-04-17T06:47:41.705811Z",
     "shell.execute_reply": "2021-04-17T06:47:41.705017Z"
    },
    "papermill": {
     "duration": 9.947352,
     "end_time": "2021-04-17T06:47:41.705919",
     "exception": false,
     "start_time": "2021-04-17T06:47:31.758567",
     "status": "completed"
    },
    "tags": []
   },
   "outputs": [
    {
     "name": "stdout",
     "output_type": "stream",
     "text": [
      "Requirement already satisfied: autocorrect in /Users/divya.amith/anaconda3/lib/python3.11/site-packages (2.6.1)\n",
      "Requirement already satisfied: spacy in /Users/divya.amith/anaconda3/lib/python3.11/site-packages (3.7.3)\n",
      "Requirement already satisfied: spacy-legacy<3.1.0,>=3.0.11 in /Users/divya.amith/anaconda3/lib/python3.11/site-packages (from spacy) (3.0.12)\n",
      "Requirement already satisfied: spacy-loggers<2.0.0,>=1.0.0 in /Users/divya.amith/anaconda3/lib/python3.11/site-packages (from spacy) (1.0.5)\n",
      "Requirement already satisfied: murmurhash<1.1.0,>=0.28.0 in /Users/divya.amith/anaconda3/lib/python3.11/site-packages (from spacy) (1.0.10)\n",
      "Requirement already satisfied: cymem<2.1.0,>=2.0.2 in /Users/divya.amith/anaconda3/lib/python3.11/site-packages (from spacy) (2.0.8)\n",
      "Requirement already satisfied: preshed<3.1.0,>=3.0.2 in /Users/divya.amith/anaconda3/lib/python3.11/site-packages (from spacy) (3.0.9)\n",
      "Requirement already satisfied: thinc<8.3.0,>=8.2.2 in /Users/divya.amith/anaconda3/lib/python3.11/site-packages (from spacy) (8.2.3)\n",
      "Requirement already satisfied: wasabi<1.2.0,>=0.9.1 in /Users/divya.amith/anaconda3/lib/python3.11/site-packages (from spacy) (1.1.2)\n",
      "Requirement already satisfied: srsly<3.0.0,>=2.4.3 in /Users/divya.amith/anaconda3/lib/python3.11/site-packages (from spacy) (2.4.8)\n",
      "Requirement already satisfied: catalogue<2.1.0,>=2.0.6 in /Users/divya.amith/anaconda3/lib/python3.11/site-packages (from spacy) (2.0.10)\n",
      "Requirement already satisfied: weasel<0.4.0,>=0.1.0 in /Users/divya.amith/anaconda3/lib/python3.11/site-packages (from spacy) (0.3.4)\n",
      "Requirement already satisfied: typer<0.10.0,>=0.3.0 in /Users/divya.amith/anaconda3/lib/python3.11/site-packages (from spacy) (0.9.0)\n",
      "Requirement already satisfied: smart-open<7.0.0,>=5.2.1 in /Users/divya.amith/anaconda3/lib/python3.11/site-packages (from spacy) (5.2.1)\n",
      "Requirement already satisfied: tqdm<5.0.0,>=4.38.0 in /Users/divya.amith/anaconda3/lib/python3.11/site-packages (from spacy) (4.65.0)\n",
      "Requirement already satisfied: requests<3.0.0,>=2.13.0 in /Users/divya.amith/anaconda3/lib/python3.11/site-packages (from spacy) (2.31.0)\n",
      "Requirement already satisfied: pydantic!=1.8,!=1.8.1,<3.0.0,>=1.7.4 in /Users/divya.amith/anaconda3/lib/python3.11/site-packages (from spacy) (1.10.8)\n",
      "Requirement already satisfied: jinja2 in /Users/divya.amith/anaconda3/lib/python3.11/site-packages (from spacy) (3.1.2)\n",
      "Requirement already satisfied: setuptools in /Users/divya.amith/anaconda3/lib/python3.11/site-packages (from spacy) (68.0.0)\n",
      "Requirement already satisfied: packaging>=20.0 in /Users/divya.amith/anaconda3/lib/python3.11/site-packages (from spacy) (23.1)\n",
      "Requirement already satisfied: langcodes<4.0.0,>=3.2.0 in /Users/divya.amith/anaconda3/lib/python3.11/site-packages (from spacy) (3.3.0)\n",
      "Requirement already satisfied: numpy>=1.19.0 in /Users/divya.amith/anaconda3/lib/python3.11/site-packages (from spacy) (1.24.3)\n",
      "Requirement already satisfied: typing-extensions>=4.2.0 in /Users/divya.amith/anaconda3/lib/python3.11/site-packages (from pydantic!=1.8,!=1.8.1,<3.0.0,>=1.7.4->spacy) (4.7.1)\n",
      "Requirement already satisfied: charset-normalizer<4,>=2 in /Users/divya.amith/anaconda3/lib/python3.11/site-packages (from requests<3.0.0,>=2.13.0->spacy) (2.0.4)\n",
      "Requirement already satisfied: idna<4,>=2.5 in /Users/divya.amith/anaconda3/lib/python3.11/site-packages (from requests<3.0.0,>=2.13.0->spacy) (3.4)\n",
      "Requirement already satisfied: urllib3<3,>=1.21.1 in /Users/divya.amith/anaconda3/lib/python3.11/site-packages (from requests<3.0.0,>=2.13.0->spacy) (1.26.16)\n",
      "Requirement already satisfied: certifi>=2017.4.17 in /Users/divya.amith/anaconda3/lib/python3.11/site-packages (from requests<3.0.0,>=2.13.0->spacy) (2023.7.22)\n",
      "Requirement already satisfied: blis<0.8.0,>=0.7.8 in /Users/divya.amith/anaconda3/lib/python3.11/site-packages (from thinc<8.3.0,>=8.2.2->spacy) (0.7.11)\n",
      "Requirement already satisfied: confection<1.0.0,>=0.0.1 in /Users/divya.amith/anaconda3/lib/python3.11/site-packages (from thinc<8.3.0,>=8.2.2->spacy) (0.1.4)\n",
      "Requirement already satisfied: click<9.0.0,>=7.1.1 in /Users/divya.amith/anaconda3/lib/python3.11/site-packages (from typer<0.10.0,>=0.3.0->spacy) (8.0.4)\n",
      "Requirement already satisfied: cloudpathlib<0.17.0,>=0.7.0 in /Users/divya.amith/anaconda3/lib/python3.11/site-packages (from weasel<0.4.0,>=0.1.0->spacy) (0.16.0)\n",
      "Requirement already satisfied: MarkupSafe>=2.0 in /Users/divya.amith/anaconda3/lib/python3.11/site-packages (from jinja2->spacy) (2.1.1)\n",
      "Collecting en-core-web-sm==3.7.1\n",
      "  Downloading https://github.com/explosion/spacy-models/releases/download/en_core_web_sm-3.7.1/en_core_web_sm-3.7.1-py3-none-any.whl (12.8 MB)\n",
      "\u001b[2K     \u001b[90m━━━━━━━━━━━━━━━━━━━━━━━━━━━━━━━━━━━━━━━\u001b[0m \u001b[32m12.8/12.8 MB\u001b[0m \u001b[31m918.4 kB/s\u001b[0m eta \u001b[36m0:00:00\u001b[0m00:01\u001b[0m00:01\u001b[0m\n",
      "\u001b[?25hRequirement already satisfied: spacy<3.8.0,>=3.7.2 in /Users/divya.amith/anaconda3/lib/python3.11/site-packages (from en-core-web-sm==3.7.1) (3.7.3)\n",
      "Requirement already satisfied: spacy-legacy<3.1.0,>=3.0.11 in /Users/divya.amith/anaconda3/lib/python3.11/site-packages (from spacy<3.8.0,>=3.7.2->en-core-web-sm==3.7.1) (3.0.12)\n",
      "Requirement already satisfied: spacy-loggers<2.0.0,>=1.0.0 in /Users/divya.amith/anaconda3/lib/python3.11/site-packages (from spacy<3.8.0,>=3.7.2->en-core-web-sm==3.7.1) (1.0.5)\n",
      "Requirement already satisfied: murmurhash<1.1.0,>=0.28.0 in /Users/divya.amith/anaconda3/lib/python3.11/site-packages (from spacy<3.8.0,>=3.7.2->en-core-web-sm==3.7.1) (1.0.10)\n",
      "Requirement already satisfied: cymem<2.1.0,>=2.0.2 in /Users/divya.amith/anaconda3/lib/python3.11/site-packages (from spacy<3.8.0,>=3.7.2->en-core-web-sm==3.7.1) (2.0.8)\n",
      "Requirement already satisfied: preshed<3.1.0,>=3.0.2 in /Users/divya.amith/anaconda3/lib/python3.11/site-packages (from spacy<3.8.0,>=3.7.2->en-core-web-sm==3.7.1) (3.0.9)\n",
      "Requirement already satisfied: thinc<8.3.0,>=8.2.2 in /Users/divya.amith/anaconda3/lib/python3.11/site-packages (from spacy<3.8.0,>=3.7.2->en-core-web-sm==3.7.1) (8.2.3)\n",
      "Requirement already satisfied: wasabi<1.2.0,>=0.9.1 in /Users/divya.amith/anaconda3/lib/python3.11/site-packages (from spacy<3.8.0,>=3.7.2->en-core-web-sm==3.7.1) (1.1.2)\n",
      "Requirement already satisfied: srsly<3.0.0,>=2.4.3 in /Users/divya.amith/anaconda3/lib/python3.11/site-packages (from spacy<3.8.0,>=3.7.2->en-core-web-sm==3.7.1) (2.4.8)\n",
      "Requirement already satisfied: catalogue<2.1.0,>=2.0.6 in /Users/divya.amith/anaconda3/lib/python3.11/site-packages (from spacy<3.8.0,>=3.7.2->en-core-web-sm==3.7.1) (2.0.10)\n",
      "Requirement already satisfied: weasel<0.4.0,>=0.1.0 in /Users/divya.amith/anaconda3/lib/python3.11/site-packages (from spacy<3.8.0,>=3.7.2->en-core-web-sm==3.7.1) (0.3.4)\n",
      "Requirement already satisfied: typer<0.10.0,>=0.3.0 in /Users/divya.amith/anaconda3/lib/python3.11/site-packages (from spacy<3.8.0,>=3.7.2->en-core-web-sm==3.7.1) (0.9.0)\n",
      "Requirement already satisfied: smart-open<7.0.0,>=5.2.1 in /Users/divya.amith/anaconda3/lib/python3.11/site-packages (from spacy<3.8.0,>=3.7.2->en-core-web-sm==3.7.1) (5.2.1)\n",
      "Requirement already satisfied: tqdm<5.0.0,>=4.38.0 in /Users/divya.amith/anaconda3/lib/python3.11/site-packages (from spacy<3.8.0,>=3.7.2->en-core-web-sm==3.7.1) (4.65.0)\n",
      "Requirement already satisfied: requests<3.0.0,>=2.13.0 in /Users/divya.amith/anaconda3/lib/python3.11/site-packages (from spacy<3.8.0,>=3.7.2->en-core-web-sm==3.7.1) (2.31.0)\n",
      "Requirement already satisfied: pydantic!=1.8,!=1.8.1,<3.0.0,>=1.7.4 in /Users/divya.amith/anaconda3/lib/python3.11/site-packages (from spacy<3.8.0,>=3.7.2->en-core-web-sm==3.7.1) (1.10.8)\n",
      "Requirement already satisfied: jinja2 in /Users/divya.amith/anaconda3/lib/python3.11/site-packages (from spacy<3.8.0,>=3.7.2->en-core-web-sm==3.7.1) (3.1.2)\n",
      "Requirement already satisfied: setuptools in /Users/divya.amith/anaconda3/lib/python3.11/site-packages (from spacy<3.8.0,>=3.7.2->en-core-web-sm==3.7.1) (68.0.0)\n",
      "Requirement already satisfied: packaging>=20.0 in /Users/divya.amith/anaconda3/lib/python3.11/site-packages (from spacy<3.8.0,>=3.7.2->en-core-web-sm==3.7.1) (23.1)\n",
      "Requirement already satisfied: langcodes<4.0.0,>=3.2.0 in /Users/divya.amith/anaconda3/lib/python3.11/site-packages (from spacy<3.8.0,>=3.7.2->en-core-web-sm==3.7.1) (3.3.0)\n",
      "Requirement already satisfied: numpy>=1.19.0 in /Users/divya.amith/anaconda3/lib/python3.11/site-packages (from spacy<3.8.0,>=3.7.2->en-core-web-sm==3.7.1) (1.24.3)\n",
      "Requirement already satisfied: typing-extensions>=4.2.0 in /Users/divya.amith/anaconda3/lib/python3.11/site-packages (from pydantic!=1.8,!=1.8.1,<3.0.0,>=1.7.4->spacy<3.8.0,>=3.7.2->en-core-web-sm==3.7.1) (4.7.1)\n"
     ]
    },
    {
     "name": "stdout",
     "output_type": "stream",
     "text": [
      "Requirement already satisfied: charset-normalizer<4,>=2 in /Users/divya.amith/anaconda3/lib/python3.11/site-packages (from requests<3.0.0,>=2.13.0->spacy<3.8.0,>=3.7.2->en-core-web-sm==3.7.1) (2.0.4)\n",
      "Requirement already satisfied: idna<4,>=2.5 in /Users/divya.amith/anaconda3/lib/python3.11/site-packages (from requests<3.0.0,>=2.13.0->spacy<3.8.0,>=3.7.2->en-core-web-sm==3.7.1) (3.4)\n",
      "Requirement already satisfied: urllib3<3,>=1.21.1 in /Users/divya.amith/anaconda3/lib/python3.11/site-packages (from requests<3.0.0,>=2.13.0->spacy<3.8.0,>=3.7.2->en-core-web-sm==3.7.1) (1.26.16)\n",
      "Requirement already satisfied: certifi>=2017.4.17 in /Users/divya.amith/anaconda3/lib/python3.11/site-packages (from requests<3.0.0,>=2.13.0->spacy<3.8.0,>=3.7.2->en-core-web-sm==3.7.1) (2023.7.22)\n",
      "Requirement already satisfied: blis<0.8.0,>=0.7.8 in /Users/divya.amith/anaconda3/lib/python3.11/site-packages (from thinc<8.3.0,>=8.2.2->spacy<3.8.0,>=3.7.2->en-core-web-sm==3.7.1) (0.7.11)\n",
      "Requirement already satisfied: confection<1.0.0,>=0.0.1 in /Users/divya.amith/anaconda3/lib/python3.11/site-packages (from thinc<8.3.0,>=8.2.2->spacy<3.8.0,>=3.7.2->en-core-web-sm==3.7.1) (0.1.4)\n",
      "Requirement already satisfied: click<9.0.0,>=7.1.1 in /Users/divya.amith/anaconda3/lib/python3.11/site-packages (from typer<0.10.0,>=0.3.0->spacy<3.8.0,>=3.7.2->en-core-web-sm==3.7.1) (8.0.4)\n",
      "Requirement already satisfied: cloudpathlib<0.17.0,>=0.7.0 in /Users/divya.amith/anaconda3/lib/python3.11/site-packages (from weasel<0.4.0,>=0.1.0->spacy<3.8.0,>=3.7.2->en-core-web-sm==3.7.1) (0.16.0)\n",
      "Requirement already satisfied: MarkupSafe>=2.0 in /Users/divya.amith/anaconda3/lib/python3.11/site-packages (from jinja2->spacy<3.8.0,>=3.7.2->en-core-web-sm==3.7.1) (2.1.1)\n",
      "\u001b[38;5;2m✔ Download and installation successful\u001b[0m\n",
      "You can now load the package via spacy.load('en_core_web_sm')\n",
      "Requirement already satisfied: spacytextblob in /Users/divya.amith/anaconda3/lib/python3.11/site-packages (4.0.0)\n",
      "Requirement already satisfied: spacy<4.0,>=3.0 in /Users/divya.amith/anaconda3/lib/python3.11/site-packages (from spacytextblob) (3.7.3)\n",
      "Requirement already satisfied: textblob<0.16.0,>=0.15.3 in /Users/divya.amith/anaconda3/lib/python3.11/site-packages (from spacytextblob) (0.15.3)\n",
      "Requirement already satisfied: spacy-legacy<3.1.0,>=3.0.11 in /Users/divya.amith/anaconda3/lib/python3.11/site-packages (from spacy<4.0,>=3.0->spacytextblob) (3.0.12)\n",
      "Requirement already satisfied: spacy-loggers<2.0.0,>=1.0.0 in /Users/divya.amith/anaconda3/lib/python3.11/site-packages (from spacy<4.0,>=3.0->spacytextblob) (1.0.5)\n",
      "Requirement already satisfied: murmurhash<1.1.0,>=0.28.0 in /Users/divya.amith/anaconda3/lib/python3.11/site-packages (from spacy<4.0,>=3.0->spacytextblob) (1.0.10)\n",
      "Requirement already satisfied: cymem<2.1.0,>=2.0.2 in /Users/divya.amith/anaconda3/lib/python3.11/site-packages (from spacy<4.0,>=3.0->spacytextblob) (2.0.8)\n",
      "Requirement already satisfied: preshed<3.1.0,>=3.0.2 in /Users/divya.amith/anaconda3/lib/python3.11/site-packages (from spacy<4.0,>=3.0->spacytextblob) (3.0.9)\n",
      "Requirement already satisfied: thinc<8.3.0,>=8.2.2 in /Users/divya.amith/anaconda3/lib/python3.11/site-packages (from spacy<4.0,>=3.0->spacytextblob) (8.2.3)\n",
      "Requirement already satisfied: wasabi<1.2.0,>=0.9.1 in /Users/divya.amith/anaconda3/lib/python3.11/site-packages (from spacy<4.0,>=3.0->spacytextblob) (1.1.2)\n",
      "Requirement already satisfied: srsly<3.0.0,>=2.4.3 in /Users/divya.amith/anaconda3/lib/python3.11/site-packages (from spacy<4.0,>=3.0->spacytextblob) (2.4.8)\n",
      "Requirement already satisfied: catalogue<2.1.0,>=2.0.6 in /Users/divya.amith/anaconda3/lib/python3.11/site-packages (from spacy<4.0,>=3.0->spacytextblob) (2.0.10)\n",
      "Requirement already satisfied: weasel<0.4.0,>=0.1.0 in /Users/divya.amith/anaconda3/lib/python3.11/site-packages (from spacy<4.0,>=3.0->spacytextblob) (0.3.4)\n",
      "Requirement already satisfied: typer<0.10.0,>=0.3.0 in /Users/divya.amith/anaconda3/lib/python3.11/site-packages (from spacy<4.0,>=3.0->spacytextblob) (0.9.0)\n",
      "Requirement already satisfied: smart-open<7.0.0,>=5.2.1 in /Users/divya.amith/anaconda3/lib/python3.11/site-packages (from spacy<4.0,>=3.0->spacytextblob) (5.2.1)\n",
      "Requirement already satisfied: tqdm<5.0.0,>=4.38.0 in /Users/divya.amith/anaconda3/lib/python3.11/site-packages (from spacy<4.0,>=3.0->spacytextblob) (4.65.0)\n",
      "Requirement already satisfied: requests<3.0.0,>=2.13.0 in /Users/divya.amith/anaconda3/lib/python3.11/site-packages (from spacy<4.0,>=3.0->spacytextblob) (2.31.0)\n",
      "Requirement already satisfied: pydantic!=1.8,!=1.8.1,<3.0.0,>=1.7.4 in /Users/divya.amith/anaconda3/lib/python3.11/site-packages (from spacy<4.0,>=3.0->spacytextblob) (1.10.8)\n",
      "Requirement already satisfied: jinja2 in /Users/divya.amith/anaconda3/lib/python3.11/site-packages (from spacy<4.0,>=3.0->spacytextblob) (3.1.2)\n",
      "Requirement already satisfied: setuptools in /Users/divya.amith/anaconda3/lib/python3.11/site-packages (from spacy<4.0,>=3.0->spacytextblob) (68.0.0)\n",
      "Requirement already satisfied: packaging>=20.0 in /Users/divya.amith/anaconda3/lib/python3.11/site-packages (from spacy<4.0,>=3.0->spacytextblob) (23.1)\n",
      "Requirement already satisfied: langcodes<4.0.0,>=3.2.0 in /Users/divya.amith/anaconda3/lib/python3.11/site-packages (from spacy<4.0,>=3.0->spacytextblob) (3.3.0)\n",
      "Requirement already satisfied: numpy>=1.19.0 in /Users/divya.amith/anaconda3/lib/python3.11/site-packages (from spacy<4.0,>=3.0->spacytextblob) (1.24.3)\n",
      "Requirement already satisfied: nltk>=3.1 in /Users/divya.amith/anaconda3/lib/python3.11/site-packages (from textblob<0.16.0,>=0.15.3->spacytextblob) (3.8.1)\n",
      "Requirement already satisfied: click in /Users/divya.amith/anaconda3/lib/python3.11/site-packages (from nltk>=3.1->textblob<0.16.0,>=0.15.3->spacytextblob) (8.0.4)\n",
      "Requirement already satisfied: joblib in /Users/divya.amith/anaconda3/lib/python3.11/site-packages (from nltk>=3.1->textblob<0.16.0,>=0.15.3->spacytextblob) (1.2.0)\n",
      "Requirement already satisfied: regex>=2021.8.3 in /Users/divya.amith/anaconda3/lib/python3.11/site-packages (from nltk>=3.1->textblob<0.16.0,>=0.15.3->spacytextblob) (2022.7.9)\n",
      "Requirement already satisfied: typing-extensions>=4.2.0 in /Users/divya.amith/anaconda3/lib/python3.11/site-packages (from pydantic!=1.8,!=1.8.1,<3.0.0,>=1.7.4->spacy<4.0,>=3.0->spacytextblob) (4.7.1)\n",
      "Requirement already satisfied: charset-normalizer<4,>=2 in /Users/divya.amith/anaconda3/lib/python3.11/site-packages (from requests<3.0.0,>=2.13.0->spacy<4.0,>=3.0->spacytextblob) (2.0.4)\n",
      "Requirement already satisfied: idna<4,>=2.5 in /Users/divya.amith/anaconda3/lib/python3.11/site-packages (from requests<3.0.0,>=2.13.0->spacy<4.0,>=3.0->spacytextblob) (3.4)\n",
      "Requirement already satisfied: urllib3<3,>=1.21.1 in /Users/divya.amith/anaconda3/lib/python3.11/site-packages (from requests<3.0.0,>=2.13.0->spacy<4.0,>=3.0->spacytextblob) (1.26.16)\n",
      "Requirement already satisfied: certifi>=2017.4.17 in /Users/divya.amith/anaconda3/lib/python3.11/site-packages (from requests<3.0.0,>=2.13.0->spacy<4.0,>=3.0->spacytextblob) (2023.7.22)\n",
      "Requirement already satisfied: blis<0.8.0,>=0.7.8 in /Users/divya.amith/anaconda3/lib/python3.11/site-packages (from thinc<8.3.0,>=8.2.2->spacy<4.0,>=3.0->spacytextblob) (0.7.11)\n",
      "Requirement already satisfied: confection<1.0.0,>=0.0.1 in /Users/divya.amith/anaconda3/lib/python3.11/site-packages (from thinc<8.3.0,>=8.2.2->spacy<4.0,>=3.0->spacytextblob) (0.1.4)\n",
      "Requirement already satisfied: cloudpathlib<0.17.0,>=0.7.0 in /Users/divya.amith/anaconda3/lib/python3.11/site-packages (from weasel<0.4.0,>=0.1.0->spacy<4.0,>=3.0->spacytextblob) (0.16.0)\n",
      "Requirement already satisfied: MarkupSafe>=2.0 in /Users/divya.amith/anaconda3/lib/python3.11/site-packages (from jinja2->spacy<4.0,>=3.0->spacytextblob) (2.1.1)\n",
      "Requirement already satisfied: nltk in /Users/divya.amith/anaconda3/lib/python3.11/site-packages (3.8.1)\n",
      "Requirement already satisfied: click in /Users/divya.amith/anaconda3/lib/python3.11/site-packages (from nltk) (8.0.4)\n",
      "Requirement already satisfied: joblib in /Users/divya.amith/anaconda3/lib/python3.11/site-packages (from nltk) (1.2.0)\n",
      "Requirement already satisfied: regex>=2021.8.3 in /Users/divya.amith/anaconda3/lib/python3.11/site-packages (from nltk) (2022.7.9)\n",
      "Requirement already satisfied: tqdm in /Users/divya.amith/anaconda3/lib/python3.11/site-packages (from nltk) (4.65.0)\n"
     ]
    }
   ],
   "source": [
    "!pip install autocorrect\n",
    "!pip install spacy\n",
    "!python -m spacy download en_core_web_sm\n",
    "!pip install spacytextblob\n",
    "!pip install nltk"
   ]
  },
  {
   "cell_type": "markdown",
   "metadata": {
    "papermill": {
     "duration": 0.097036,
     "end_time": "2021-04-17T06:48:40.901217",
     "exception": false,
     "start_time": "2021-04-17T06:48:40.804181",
     "status": "completed"
    },
    "tags": []
   },
   "source": [
    "# **Import Packages**"
   ]
  },
  {
   "cell_type": "code",
   "execution_count": 2,
   "metadata": {
    "_kg_hide-output": true,
    "execution": {
     "iopub.execute_input": "2021-04-17T06:48:41.110858Z",
     "iopub.status.busy": "2021-04-17T06:48:41.109988Z",
     "iopub.status.idle": "2021-04-17T06:48:46.391981Z",
     "shell.execute_reply": "2021-04-17T06:48:46.392729Z"
    },
    "papermill": {
     "duration": 5.394515,
     "end_time": "2021-04-17T06:48:46.392892",
     "exception": false,
     "start_time": "2021-04-17T06:48:40.998377",
     "status": "completed"
    },
    "tags": []
   },
   "outputs": [],
   "source": [
    "import warnings\n",
    "import numpy as np \n",
    "import pandas as pd \n",
    "import os\n",
    "import re\n",
    "import nltk\n",
    "from nltk.corpus import abc\n",
    "from nltk.tokenize import sent_tokenize, word_tokenize\n",
    "from nltk.corpus import stopwords\n",
    "from nltk.stem import WordNetLemmatizer\n",
    "from nltk.stem.porter import *\n",
    "from nltk.stem.snowball import *\n",
    "from nltk.util import ngrams\n",
    "import string\n",
    "import spacy\n",
    "from spacy import displacy\n",
    "from spacytextblob.spacytextblob import SpacyTextBlob\n",
    "from autocorrect import Speller\n",
    "from sklearn import preprocessing\n",
    "from sklearn.feature_extraction.text import CountVectorizer, TfidfVectorizer\n",
    "from sklearn.decomposition import PCA\n",
    "from nltk.sentiment import SentimentIntensityAnalyzer\n",
    "from textblob import TextBlob\n",
    "from IPython.core.display import HTML\n",
    "import seaborn as sns\n",
    "import matplotlib.pyplot as plt\n",
    "%matplotlib inline"
   ]
  },
  {
   "cell_type": "markdown",
   "metadata": {
    "papermill": {
     "duration": 0.095665,
     "end_time": "2021-04-17T06:48:46.586833",
     "exception": false,
     "start_time": "2021-04-17T06:48:46.491168",
     "status": "completed"
    },
    "tags": []
   },
   "source": [
    "# **DATA PREPROCESSING**"
   ]
  },
  {
   "cell_type": "markdown",
   "metadata": {
    "papermill": {
     "duration": 0.097299,
     "end_time": "2021-04-17T06:48:46.782530",
     "exception": false,
     "start_time": "2021-04-17T06:48:46.685231",
     "status": "completed"
    },
    "tags": []
   },
   "source": [
    "# **Data Loading**"
   ]
  },
  {
   "cell_type": "code",
   "execution_count": 3,
   "metadata": {
    "_cell_guid": "79c7e3d0-c299-4dcb-8224-4455121ee9b0",
    "_uuid": "d629ff2d2480ee46fbb7e2d37f6b5fab8052498a",
    "execution": {
     "iopub.execute_input": "2021-04-17T06:48:47.199917Z",
     "iopub.status.busy": "2021-04-17T06:48:47.199352Z",
     "iopub.status.idle": "2021-04-17T06:48:47.248858Z",
     "shell.execute_reply": "2021-04-17T06:48:47.249244Z"
    },
    "papermill": {
     "duration": 0.153518,
     "end_time": "2021-04-17T06:48:47.249360",
     "exception": false,
     "start_time": "2021-04-17T06:48:47.095842",
     "status": "completed"
    },
    "tags": []
   },
   "outputs": [
    {
     "name": "stdout",
     "output_type": "stream",
     "text": [
      "Total number of entries in the sample twitter dataset are: 93\n"
     ]
    },
    {
     "data": {
      "text/html": [
       "<div>\n",
       "<style scoped>\n",
       "    .dataframe tbody tr th:only-of-type {\n",
       "        vertical-align: middle;\n",
       "    }\n",
       "\n",
       "    .dataframe tbody tr th {\n",
       "        vertical-align: top;\n",
       "    }\n",
       "\n",
       "    .dataframe thead th {\n",
       "        text-align: right;\n",
       "    }\n",
       "</style>\n",
       "<table border=\"1\" class=\"dataframe\">\n",
       "  <thead>\n",
       "    <tr style=\"text-align: right;\">\n",
       "      <th></th>\n",
       "      <th>tweet_id</th>\n",
       "      <th>author_id</th>\n",
       "      <th>inbound</th>\n",
       "      <th>created_at</th>\n",
       "      <th>text</th>\n",
       "      <th>response_tweet_id</th>\n",
       "      <th>in_response_to_tweet_id</th>\n",
       "    </tr>\n",
       "  </thead>\n",
       "  <tbody>\n",
       "    <tr>\n",
       "      <th>0</th>\n",
       "      <td>119237</td>\n",
       "      <td>105834</td>\n",
       "      <td>True</td>\n",
       "      <td>Wed Oct 11 06:55:44 +0000 2017</td>\n",
       "      <td>@AppleSupport causing the reply to be disregar...</td>\n",
       "      <td>119236</td>\n",
       "      <td>NaN</td>\n",
       "    </tr>\n",
       "    <tr>\n",
       "      <th>1</th>\n",
       "      <td>119238</td>\n",
       "      <td>ChaseSupport</td>\n",
       "      <td>False</td>\n",
       "      <td>Wed Oct 11 13:25:49 +0000 2017</td>\n",
       "      <td>@105835 Your business means a lot to us. Pleas...</td>\n",
       "      <td>NaN</td>\n",
       "      <td>119239.0</td>\n",
       "    </tr>\n",
       "    <tr>\n",
       "      <th>2</th>\n",
       "      <td>119239</td>\n",
       "      <td>105835</td>\n",
       "      <td>True</td>\n",
       "      <td>Wed Oct 11 13:00:09 +0000 2017</td>\n",
       "      <td>@76328 I really hope you all change but I'm su...</td>\n",
       "      <td>119238</td>\n",
       "      <td>NaN</td>\n",
       "    </tr>\n",
       "    <tr>\n",
       "      <th>3</th>\n",
       "      <td>119240</td>\n",
       "      <td>VirginTrains</td>\n",
       "      <td>False</td>\n",
       "      <td>Tue Oct 10 15:16:08 +0000 2017</td>\n",
       "      <td>@105836 LiveChat is online at the moment - htt...</td>\n",
       "      <td>119241</td>\n",
       "      <td>119242.0</td>\n",
       "    </tr>\n",
       "    <tr>\n",
       "      <th>4</th>\n",
       "      <td>119241</td>\n",
       "      <td>105836</td>\n",
       "      <td>True</td>\n",
       "      <td>Tue Oct 10 15:17:21 +0000 2017</td>\n",
       "      <td>@VirginTrains see attached error message. I've...</td>\n",
       "      <td>119243</td>\n",
       "      <td>119240.0</td>\n",
       "    </tr>\n",
       "  </tbody>\n",
       "</table>\n",
       "</div>"
      ],
      "text/plain": [
       "   tweet_id     author_id  inbound                      created_at  \\\n",
       "0    119237        105834     True  Wed Oct 11 06:55:44 +0000 2017   \n",
       "1    119238  ChaseSupport    False  Wed Oct 11 13:25:49 +0000 2017   \n",
       "2    119239        105835     True  Wed Oct 11 13:00:09 +0000 2017   \n",
       "3    119240  VirginTrains    False  Tue Oct 10 15:16:08 +0000 2017   \n",
       "4    119241        105836     True  Tue Oct 10 15:17:21 +0000 2017   \n",
       "\n",
       "                                                text response_tweet_id  \\\n",
       "0  @AppleSupport causing the reply to be disregar...            119236   \n",
       "1  @105835 Your business means a lot to us. Pleas...               NaN   \n",
       "2  @76328 I really hope you all change but I'm su...            119238   \n",
       "3  @105836 LiveChat is online at the moment - htt...            119241   \n",
       "4  @VirginTrains see attached error message. I've...            119243   \n",
       "\n",
       "   in_response_to_tweet_id  \n",
       "0                      NaN  \n",
       "1                 119239.0  \n",
       "2                      NaN  \n",
       "3                 119242.0  \n",
       "4                 119240.0  "
      ]
     },
     "execution_count": 3,
     "metadata": {},
     "output_type": "execute_result"
    }
   ],
   "source": [
    "data_nltk = pd.read_csv('./sample.csv')\n",
    "print('Total number of entries in the sample twitter dataset are:', len(data_nltk))\n",
    "data_nltk.head()"
   ]
  },
  {
   "cell_type": "markdown",
   "metadata": {
    "papermill": {
     "duration": 0.098348,
     "end_time": "2021-04-17T06:48:47.446282",
     "exception": false,
     "start_time": "2021-04-17T06:48:47.347934",
     "status": "completed"
    },
    "tags": []
   },
   "source": [
    "# **Preliminary Analysis**"
   ]
  },
  {
   "cell_type": "code",
   "execution_count": 4,
   "metadata": {
    "execution": {
     "iopub.execute_input": "2021-04-17T06:48:47.646099Z",
     "iopub.status.busy": "2021-04-17T06:48:47.645310Z",
     "iopub.status.idle": "2021-04-17T06:48:47.649016Z",
     "shell.execute_reply": "2021-04-17T06:48:47.648514Z"
    },
    "papermill": {
     "duration": 0.105338,
     "end_time": "2021-04-17T06:48:47.649102",
     "exception": false,
     "start_time": "2021-04-17T06:48:47.543764",
     "status": "completed"
    },
    "tags": []
   },
   "outputs": [
    {
     "data": {
      "text/plain": [
       "(93, 7)"
      ]
     },
     "execution_count": 4,
     "metadata": {},
     "output_type": "execute_result"
    }
   ],
   "source": [
    "data_nltk.shape"
   ]
  },
  {
   "cell_type": "code",
   "execution_count": 5,
   "metadata": {
    "execution": {
     "iopub.execute_input": "2021-04-17T06:48:47.851442Z",
     "iopub.status.busy": "2021-04-17T06:48:47.850620Z",
     "iopub.status.idle": "2021-04-17T06:48:47.860748Z",
     "shell.execute_reply": "2021-04-17T06:48:47.861264Z"
    },
    "papermill": {
     "duration": 0.114816,
     "end_time": "2021-04-17T06:48:47.861373",
     "exception": false,
     "start_time": "2021-04-17T06:48:47.746557",
     "status": "completed"
    },
    "scrolled": false,
    "tags": []
   },
   "outputs": [
    {
     "name": "stdout",
     "output_type": "stream",
     "text": [
      "<class 'pandas.core.frame.DataFrame'>\n",
      "RangeIndex: 93 entries, 0 to 92\n",
      "Data columns (total 7 columns):\n",
      " #   Column                   Non-Null Count  Dtype  \n",
      "---  ------                   --------------  -----  \n",
      " 0   tweet_id                 93 non-null     int64  \n",
      " 1   author_id                93 non-null     object \n",
      " 2   inbound                  93 non-null     bool   \n",
      " 3   created_at               93 non-null     object \n",
      " 4   text                     93 non-null     object \n",
      " 5   response_tweet_id        65 non-null     object \n",
      " 6   in_response_to_tweet_id  68 non-null     float64\n",
      "dtypes: bool(1), float64(1), int64(1), object(4)\n",
      "memory usage: 4.6+ KB\n"
     ]
    }
   ],
   "source": [
    "data_nltk.info()"
   ]
  },
  {
   "cell_type": "code",
   "execution_count": 6,
   "metadata": {
    "execution": {
     "iopub.execute_input": "2021-04-17T06:48:48.065962Z",
     "iopub.status.busy": "2021-04-17T06:48:48.065192Z",
     "iopub.status.idle": "2021-04-17T06:48:48.068887Z",
     "shell.execute_reply": "2021-04-17T06:48:48.068434Z"
    },
    "papermill": {
     "duration": 0.107881,
     "end_time": "2021-04-17T06:48:48.068981",
     "exception": false,
     "start_time": "2021-04-17T06:48:47.961100",
     "status": "completed"
    },
    "tags": []
   },
   "outputs": [
    {
     "data": {
      "text/plain": [
       "tweet_id                     int64\n",
       "author_id                   object\n",
       "inbound                       bool\n",
       "created_at                  object\n",
       "text                        object\n",
       "response_tweet_id           object\n",
       "in_response_to_tweet_id    float64\n",
       "dtype: object"
      ]
     },
     "execution_count": 6,
     "metadata": {},
     "output_type": "execute_result"
    }
   ],
   "source": [
    "data_nltk.dtypes"
   ]
  },
  {
   "cell_type": "code",
   "execution_count": 7,
   "metadata": {
    "execution": {
     "iopub.execute_input": "2021-04-17T06:48:48.276047Z",
     "iopub.status.busy": "2021-04-17T06:48:48.275235Z",
     "iopub.status.idle": "2021-04-17T06:48:48.281487Z",
     "shell.execute_reply": "2021-04-17T06:48:48.281078Z"
    },
    "papermill": {
     "duration": 0.111547,
     "end_time": "2021-04-17T06:48:48.281595",
     "exception": false,
     "start_time": "2021-04-17T06:48:48.170048",
     "status": "completed"
    },
    "scrolled": true,
    "tags": []
   },
   "outputs": [
    {
     "data": {
      "text/plain": [
       "tweet_id                    0\n",
       "author_id                   0\n",
       "inbound                     0\n",
       "created_at                  0\n",
       "text                        0\n",
       "response_tweet_id          28\n",
       "in_response_to_tweet_id    25\n",
       "dtype: int64"
      ]
     },
     "execution_count": 7,
     "metadata": {},
     "output_type": "execute_result"
    }
   ],
   "source": [
    "data_nltk.isnull().sum()"
   ]
  },
  {
   "cell_type": "markdown",
   "metadata": {},
   "source": [
    "response_tweet_id column has lot of null values and so is in_response_to_tweet_id. Let's examine a text corresponding to null response_tweet_id."
   ]
  },
  {
   "cell_type": "code",
   "execution_count": 8,
   "metadata": {},
   "outputs": [
    {
     "data": {
      "text/html": [
       "<div>\n",
       "<style scoped>\n",
       "    .dataframe tbody tr th:only-of-type {\n",
       "        vertical-align: middle;\n",
       "    }\n",
       "\n",
       "    .dataframe tbody tr th {\n",
       "        vertical-align: top;\n",
       "    }\n",
       "\n",
       "    .dataframe thead th {\n",
       "        text-align: right;\n",
       "    }\n",
       "</style>\n",
       "<table border=\"1\" class=\"dataframe\">\n",
       "  <thead>\n",
       "    <tr style=\"text-align: right;\">\n",
       "      <th></th>\n",
       "      <th>tweet_id</th>\n",
       "      <th>author_id</th>\n",
       "      <th>inbound</th>\n",
       "      <th>created_at</th>\n",
       "      <th>text</th>\n",
       "      <th>response_tweet_id</th>\n",
       "      <th>in_response_to_tweet_id</th>\n",
       "    </tr>\n",
       "  </thead>\n",
       "  <tbody>\n",
       "    <tr>\n",
       "      <th>0</th>\n",
       "      <td>119237</td>\n",
       "      <td>105834</td>\n",
       "      <td>True</td>\n",
       "      <td>Wed Oct 11 06:55:44 +0000 2017</td>\n",
       "      <td>@AppleSupport causing the reply to be disregar...</td>\n",
       "      <td>119236</td>\n",
       "      <td>NaN</td>\n",
       "    </tr>\n",
       "    <tr>\n",
       "      <th>2</th>\n",
       "      <td>119239</td>\n",
       "      <td>105835</td>\n",
       "      <td>True</td>\n",
       "      <td>Wed Oct 11 13:00:09 +0000 2017</td>\n",
       "      <td>@76328 I really hope you all change but I'm su...</td>\n",
       "      <td>119238</td>\n",
       "      <td>NaN</td>\n",
       "    </tr>\n",
       "    <tr>\n",
       "      <th>12</th>\n",
       "      <td>119250</td>\n",
       "      <td>105838</td>\n",
       "      <td>True</td>\n",
       "      <td>Wed Oct 11 05:33:17 +0000 2017</td>\n",
       "      <td>@AppleSupport hi #apple, I’ve a concern about ...</td>\n",
       "      <td>119249,119251</td>\n",
       "      <td>NaN</td>\n",
       "    </tr>\n",
       "    <tr>\n",
       "      <th>14</th>\n",
       "      <td>119253</td>\n",
       "      <td>105839</td>\n",
       "      <td>True</td>\n",
       "      <td>Wed Oct 11 07:21:34 +0000 2017</td>\n",
       "      <td>I just updated my phone and suddenly everythin...</td>\n",
       "      <td>119252</td>\n",
       "      <td>NaN</td>\n",
       "    </tr>\n",
       "    <tr>\n",
       "      <th>22</th>\n",
       "      <td>119256</td>\n",
       "      <td>105840</td>\n",
       "      <td>True</td>\n",
       "      <td>Wed Oct 11 12:53:29 +0000 2017</td>\n",
       "      <td>@76495 @91226 Please help! Spotify Premium ski...</td>\n",
       "      <td>119254</td>\n",
       "      <td>NaN</td>\n",
       "    </tr>\n",
       "    <tr>\n",
       "      <th>24</th>\n",
       "      <td>119263</td>\n",
       "      <td>105841</td>\n",
       "      <td>True</td>\n",
       "      <td>Wed Oct 11 06:29:07 +0000 2017</td>\n",
       "      <td>@AppleSupport after the 11.0.2 my phone just s...</td>\n",
       "      <td>119262</td>\n",
       "      <td>NaN</td>\n",
       "    </tr>\n",
       "    <tr>\n",
       "      <th>26</th>\n",
       "      <td>119265</td>\n",
       "      <td>105842</td>\n",
       "      <td>True</td>\n",
       "      <td>Wed Oct 11 10:42:43 +0000 2017</td>\n",
       "      <td>First flight for long time with @British_Airwa...</td>\n",
       "      <td>119264,119266</td>\n",
       "      <td>NaN</td>\n",
       "    </tr>\n",
       "    <tr>\n",
       "      <th>28</th>\n",
       "      <td>119268</td>\n",
       "      <td>105843</td>\n",
       "      <td>True</td>\n",
       "      <td>Wed Oct 11 06:27:16 +0000 2017</td>\n",
       "      <td>Okay @76099 I used my fucking phone for 2 minu...</td>\n",
       "      <td>119267</td>\n",
       "      <td>NaN</td>\n",
       "    </tr>\n",
       "    <tr>\n",
       "      <th>32</th>\n",
       "      <td>119272</td>\n",
       "      <td>105844</td>\n",
       "      <td>True</td>\n",
       "      <td>Wed Oct 11 02:19:23 +0000 2017</td>\n",
       "      <td>You’ve paralysed my phone with your update @76...</td>\n",
       "      <td>119271</td>\n",
       "      <td>NaN</td>\n",
       "    </tr>\n",
       "    <tr>\n",
       "      <th>34</th>\n",
       "      <td>119274</td>\n",
       "      <td>82476</td>\n",
       "      <td>True</td>\n",
       "      <td>Wed Oct 11 12:50:07 +0000 2017</td>\n",
       "      <td>@O2 I received this a few weeks ago, since the...</td>\n",
       "      <td>119273</td>\n",
       "      <td>NaN</td>\n",
       "    </tr>\n",
       "  </tbody>\n",
       "</table>\n",
       "</div>"
      ],
      "text/plain": [
       "    tweet_id author_id  inbound                      created_at  \\\n",
       "0     119237    105834     True  Wed Oct 11 06:55:44 +0000 2017   \n",
       "2     119239    105835     True  Wed Oct 11 13:00:09 +0000 2017   \n",
       "12    119250    105838     True  Wed Oct 11 05:33:17 +0000 2017   \n",
       "14    119253    105839     True  Wed Oct 11 07:21:34 +0000 2017   \n",
       "22    119256    105840     True  Wed Oct 11 12:53:29 +0000 2017   \n",
       "24    119263    105841     True  Wed Oct 11 06:29:07 +0000 2017   \n",
       "26    119265    105842     True  Wed Oct 11 10:42:43 +0000 2017   \n",
       "28    119268    105843     True  Wed Oct 11 06:27:16 +0000 2017   \n",
       "32    119272    105844     True  Wed Oct 11 02:19:23 +0000 2017   \n",
       "34    119274     82476     True  Wed Oct 11 12:50:07 +0000 2017   \n",
       "\n",
       "                                                 text response_tweet_id  \\\n",
       "0   @AppleSupport causing the reply to be disregar...            119236   \n",
       "2   @76328 I really hope you all change but I'm su...            119238   \n",
       "12  @AppleSupport hi #apple, I’ve a concern about ...     119249,119251   \n",
       "14  I just updated my phone and suddenly everythin...            119252   \n",
       "22  @76495 @91226 Please help! Spotify Premium ski...            119254   \n",
       "24  @AppleSupport after the 11.0.2 my phone just s...            119262   \n",
       "26  First flight for long time with @British_Airwa...     119264,119266   \n",
       "28  Okay @76099 I used my fucking phone for 2 minu...            119267   \n",
       "32  You’ve paralysed my phone with your update @76...            119271   \n",
       "34  @O2 I received this a few weeks ago, since the...            119273   \n",
       "\n",
       "    in_response_to_tweet_id  \n",
       "0                       NaN  \n",
       "2                       NaN  \n",
       "12                      NaN  \n",
       "14                      NaN  \n",
       "22                      NaN  \n",
       "24                      NaN  \n",
       "26                      NaN  \n",
       "28                      NaN  \n",
       "32                      NaN  \n",
       "34                      NaN  "
      ]
     },
     "execution_count": 8,
     "metadata": {},
     "output_type": "execute_result"
    }
   ],
   "source": [
    "null_response_tweets = data_nltk[data_nltk.in_response_to_tweet_id.isnull()]\n",
    "null_response_tweets.head(10)"
   ]
  },
  {
   "cell_type": "code",
   "execution_count": 9,
   "metadata": {
    "execution": {
     "iopub.execute_input": "2021-04-17T06:48:48.496549Z",
     "iopub.status.busy": "2021-04-17T06:48:48.495672Z",
     "iopub.status.idle": "2021-04-17T06:48:48.499756Z",
     "shell.execute_reply": "2021-04-17T06:48:48.499261Z"
    },
    "papermill": {
     "duration": 0.119952,
     "end_time": "2021-04-17T06:48:48.499853",
     "exception": false,
     "start_time": "2021-04-17T06:48:48.379901",
     "status": "completed"
    },
    "scrolled": false,
    "tags": []
   },
   "outputs": [
    {
     "data": {
      "text/html": [
       "<div>\n",
       "<style scoped>\n",
       "    .dataframe tbody tr th:only-of-type {\n",
       "        vertical-align: middle;\n",
       "    }\n",
       "\n",
       "    .dataframe tbody tr th {\n",
       "        vertical-align: top;\n",
       "    }\n",
       "\n",
       "    .dataframe thead th {\n",
       "        text-align: right;\n",
       "    }\n",
       "</style>\n",
       "<table border=\"1\" class=\"dataframe\">\n",
       "  <thead>\n",
       "    <tr style=\"text-align: right;\">\n",
       "      <th></th>\n",
       "      <th>tweet_id</th>\n",
       "      <th>author_id</th>\n",
       "      <th>inbound</th>\n",
       "      <th>created_at</th>\n",
       "      <th>text</th>\n",
       "      <th>response_tweet_id</th>\n",
       "      <th>in_response_to_tweet_id</th>\n",
       "    </tr>\n",
       "  </thead>\n",
       "  <tbody>\n",
       "    <tr>\n",
       "      <th>0</th>\n",
       "      <td>False</td>\n",
       "      <td>False</td>\n",
       "      <td>False</td>\n",
       "      <td>False</td>\n",
       "      <td>False</td>\n",
       "      <td>False</td>\n",
       "      <td>True</td>\n",
       "    </tr>\n",
       "    <tr>\n",
       "      <th>1</th>\n",
       "      <td>False</td>\n",
       "      <td>False</td>\n",
       "      <td>False</td>\n",
       "      <td>False</td>\n",
       "      <td>False</td>\n",
       "      <td>True</td>\n",
       "      <td>False</td>\n",
       "    </tr>\n",
       "    <tr>\n",
       "      <th>2</th>\n",
       "      <td>False</td>\n",
       "      <td>False</td>\n",
       "      <td>False</td>\n",
       "      <td>False</td>\n",
       "      <td>False</td>\n",
       "      <td>False</td>\n",
       "      <td>True</td>\n",
       "    </tr>\n",
       "    <tr>\n",
       "      <th>3</th>\n",
       "      <td>False</td>\n",
       "      <td>False</td>\n",
       "      <td>False</td>\n",
       "      <td>False</td>\n",
       "      <td>False</td>\n",
       "      <td>False</td>\n",
       "      <td>False</td>\n",
       "    </tr>\n",
       "    <tr>\n",
       "      <th>4</th>\n",
       "      <td>False</td>\n",
       "      <td>False</td>\n",
       "      <td>False</td>\n",
       "      <td>False</td>\n",
       "      <td>False</td>\n",
       "      <td>False</td>\n",
       "      <td>False</td>\n",
       "    </tr>\n",
       "    <tr>\n",
       "      <th>...</th>\n",
       "      <td>...</td>\n",
       "      <td>...</td>\n",
       "      <td>...</td>\n",
       "      <td>...</td>\n",
       "      <td>...</td>\n",
       "      <td>...</td>\n",
       "      <td>...</td>\n",
       "    </tr>\n",
       "    <tr>\n",
       "      <th>88</th>\n",
       "      <td>False</td>\n",
       "      <td>False</td>\n",
       "      <td>False</td>\n",
       "      <td>False</td>\n",
       "      <td>False</td>\n",
       "      <td>False</td>\n",
       "      <td>False</td>\n",
       "    </tr>\n",
       "    <tr>\n",
       "      <th>89</th>\n",
       "      <td>False</td>\n",
       "      <td>False</td>\n",
       "      <td>False</td>\n",
       "      <td>False</td>\n",
       "      <td>False</td>\n",
       "      <td>False</td>\n",
       "      <td>True</td>\n",
       "    </tr>\n",
       "    <tr>\n",
       "      <th>90</th>\n",
       "      <td>False</td>\n",
       "      <td>False</td>\n",
       "      <td>False</td>\n",
       "      <td>False</td>\n",
       "      <td>False</td>\n",
       "      <td>False</td>\n",
       "      <td>False</td>\n",
       "    </tr>\n",
       "    <tr>\n",
       "      <th>91</th>\n",
       "      <td>False</td>\n",
       "      <td>False</td>\n",
       "      <td>False</td>\n",
       "      <td>False</td>\n",
       "      <td>False</td>\n",
       "      <td>False</td>\n",
       "      <td>False</td>\n",
       "    </tr>\n",
       "    <tr>\n",
       "      <th>92</th>\n",
       "      <td>False</td>\n",
       "      <td>False</td>\n",
       "      <td>False</td>\n",
       "      <td>False</td>\n",
       "      <td>False</td>\n",
       "      <td>True</td>\n",
       "      <td>False</td>\n",
       "    </tr>\n",
       "  </tbody>\n",
       "</table>\n",
       "<p>93 rows × 7 columns</p>\n",
       "</div>"
      ],
      "text/plain": [
       "    tweet_id  author_id  inbound  created_at   text  response_tweet_id  \\\n",
       "0      False      False    False       False  False              False   \n",
       "1      False      False    False       False  False               True   \n",
       "2      False      False    False       False  False              False   \n",
       "3      False      False    False       False  False              False   \n",
       "4      False      False    False       False  False              False   \n",
       "..       ...        ...      ...         ...    ...                ...   \n",
       "88     False      False    False       False  False              False   \n",
       "89     False      False    False       False  False              False   \n",
       "90     False      False    False       False  False              False   \n",
       "91     False      False    False       False  False              False   \n",
       "92     False      False    False       False  False               True   \n",
       "\n",
       "    in_response_to_tweet_id  \n",
       "0                      True  \n",
       "1                     False  \n",
       "2                      True  \n",
       "3                     False  \n",
       "4                     False  \n",
       "..                      ...  \n",
       "88                    False  \n",
       "89                     True  \n",
       "90                    False  \n",
       "91                    False  \n",
       "92                    False  \n",
       "\n",
       "[93 rows x 7 columns]"
      ]
     },
     "execution_count": 9,
     "metadata": {},
     "output_type": "execute_result"
    }
   ],
   "source": [
    "data_nltk.isna()"
   ]
  },
  {
   "cell_type": "code",
   "execution_count": 10,
   "metadata": {
    "execution": {
     "iopub.execute_input": "2021-04-17T06:48:48.711654Z",
     "iopub.status.busy": "2021-04-17T06:48:48.710739Z",
     "iopub.status.idle": "2021-04-17T06:48:48.714619Z",
     "shell.execute_reply": "2021-04-17T06:48:48.714194Z"
    },
    "papermill": {
     "duration": 0.11548,
     "end_time": "2021-04-17T06:48:48.714710",
     "exception": false,
     "start_time": "2021-04-17T06:48:48.599230",
     "status": "completed"
    },
    "tags": []
   },
   "outputs": [
    {
     "data": {
      "text/html": [
       "<div>\n",
       "<style scoped>\n",
       "    .dataframe tbody tr th:only-of-type {\n",
       "        vertical-align: middle;\n",
       "    }\n",
       "\n",
       "    .dataframe tbody tr th {\n",
       "        vertical-align: top;\n",
       "    }\n",
       "\n",
       "    .dataframe thead th {\n",
       "        text-align: right;\n",
       "    }\n",
       "</style>\n",
       "<table border=\"1\" class=\"dataframe\">\n",
       "  <thead>\n",
       "    <tr style=\"text-align: right;\">\n",
       "      <th></th>\n",
       "      <th>tweet_id</th>\n",
       "      <th>text</th>\n",
       "    </tr>\n",
       "  </thead>\n",
       "  <tbody>\n",
       "    <tr>\n",
       "      <th>0</th>\n",
       "      <td>119237</td>\n",
       "      <td>@AppleSupport causing the reply to be disregar...</td>\n",
       "    </tr>\n",
       "    <tr>\n",
       "      <th>1</th>\n",
       "      <td>119238</td>\n",
       "      <td>@105835 Your business means a lot to us. Pleas...</td>\n",
       "    </tr>\n",
       "    <tr>\n",
       "      <th>2</th>\n",
       "      <td>119239</td>\n",
       "      <td>@76328 I really hope you all change but I'm su...</td>\n",
       "    </tr>\n",
       "    <tr>\n",
       "      <th>3</th>\n",
       "      <td>119240</td>\n",
       "      <td>@105836 LiveChat is online at the moment - htt...</td>\n",
       "    </tr>\n",
       "    <tr>\n",
       "      <th>4</th>\n",
       "      <td>119241</td>\n",
       "      <td>@VirginTrains see attached error message. I've...</td>\n",
       "    </tr>\n",
       "    <tr>\n",
       "      <th>...</th>\n",
       "      <td>...</td>\n",
       "      <td>...</td>\n",
       "    </tr>\n",
       "    <tr>\n",
       "      <th>88</th>\n",
       "      <td>119330</td>\n",
       "      <td>@105860 I wish Amazon had an option of where I...</td>\n",
       "    </tr>\n",
       "    <tr>\n",
       "      <th>89</th>\n",
       "      <td>119331</td>\n",
       "      <td>They reschedule my shit for tomorrow https://t...</td>\n",
       "    </tr>\n",
       "    <tr>\n",
       "      <th>90</th>\n",
       "      <td>119332</td>\n",
       "      <td>@105861 Hey Sara, sorry to hear of the issues ...</td>\n",
       "    </tr>\n",
       "    <tr>\n",
       "      <th>91</th>\n",
       "      <td>119333</td>\n",
       "      <td>@Tesco bit of both - finding the layout cumber...</td>\n",
       "    </tr>\n",
       "    <tr>\n",
       "      <th>92</th>\n",
       "      <td>119335</td>\n",
       "      <td>@105861 If that doesn't help please DM your fu...</td>\n",
       "    </tr>\n",
       "  </tbody>\n",
       "</table>\n",
       "<p>93 rows × 2 columns</p>\n",
       "</div>"
      ],
      "text/plain": [
       "    tweet_id                                               text\n",
       "0     119237  @AppleSupport causing the reply to be disregar...\n",
       "1     119238  @105835 Your business means a lot to us. Pleas...\n",
       "2     119239  @76328 I really hope you all change but I'm su...\n",
       "3     119240  @105836 LiveChat is online at the moment - htt...\n",
       "4     119241  @VirginTrains see attached error message. I've...\n",
       "..       ...                                                ...\n",
       "88    119330  @105860 I wish Amazon had an option of where I...\n",
       "89    119331  They reschedule my shit for tomorrow https://t...\n",
       "90    119332  @105861 Hey Sara, sorry to hear of the issues ...\n",
       "91    119333  @Tesco bit of both - finding the layout cumber...\n",
       "92    119335  @105861 If that doesn't help please DM your fu...\n",
       "\n",
       "[93 rows x 2 columns]"
      ]
     },
     "execution_count": 10,
     "metadata": {},
     "output_type": "execute_result"
    }
   ],
   "source": [
    "data = data_nltk[['tweet_id', 'text']]\n",
    "data"
   ]
  },
  {
   "cell_type": "code",
   "execution_count": 11,
   "metadata": {
    "execution": {
     "iopub.execute_input": "2021-04-17T06:48:48.920715Z",
     "iopub.status.busy": "2021-04-17T06:48:48.919917Z",
     "iopub.status.idle": "2021-04-17T06:48:48.923581Z",
     "shell.execute_reply": "2021-04-17T06:48:48.923142Z"
    },
    "papermill": {
     "duration": 0.109329,
     "end_time": "2021-04-17T06:48:48.923688",
     "exception": false,
     "start_time": "2021-04-17T06:48:48.814359",
     "status": "completed"
    },
    "scrolled": true,
    "tags": []
   },
   "outputs": [
    {
     "data": {
      "text/plain": [
       "0     @AppleSupport causing the reply to be disregar...\n",
       "1     @105835 Your business means a lot to us. Pleas...\n",
       "2     @76328 I really hope you all change but I'm su...\n",
       "3     @105836 LiveChat is online at the moment - htt...\n",
       "4     @VirginTrains see attached error message. I've...\n",
       "                            ...                        \n",
       "88    @105860 I wish Amazon had an option of where I...\n",
       "89    They reschedule my shit for tomorrow https://t...\n",
       "90    @105861 Hey Sara, sorry to hear of the issues ...\n",
       "91    @Tesco bit of both - finding the layout cumber...\n",
       "92    @105861 If that doesn't help please DM your fu...\n",
       "Name: text, Length: 93, dtype: object"
      ]
     },
     "execution_count": 11,
     "metadata": {},
     "output_type": "execute_result"
    }
   ],
   "source": [
    "text = data['text']\n",
    "text"
   ]
  },
  {
   "cell_type": "markdown",
   "metadata": {},
   "source": [
    "# **Delimiter Removal and Emoji Removal**\n",
    "\n",
    "Delimiters are removed to reduce the size of the dataset as they do not supply any vital information in some cases. A Few delimiters are question marks (?), full stops (.), and exclamation marks (!). For example, after delimiter removal the sentence 'I am cold!' becomes 'I am cold'. These punctuations list can be got from string library or from nltk.\n",
    "\n",
    "![bfbe0b98b48faee19456e72e2fc61641-min.jpg](attachment:bfbe0b98b48faee19456e72e2fc61641-min.jpg)\n"
   ]
  },
  {
   "cell_type": "code",
   "execution_count": 12,
   "metadata": {
    "execution": {
     "iopub.execute_input": "2021-04-17T06:48:52.675950Z",
     "iopub.status.busy": "2021-04-17T06:48:52.675195Z",
     "iopub.status.idle": "2021-04-17T06:48:52.678924Z",
     "shell.execute_reply": "2021-04-17T06:48:52.679366Z"
    },
    "papermill": {
     "duration": 0.122999,
     "end_time": "2021-04-17T06:48:52.679473",
     "exception": false,
     "start_time": "2021-04-17T06:48:52.556474",
     "status": "completed"
    },
    "scrolled": false,
    "tags": []
   },
   "outputs": [
    {
     "name": "stdout",
     "output_type": "stream",
     "text": [
      "Delimiters in English: \n",
      "!\"#$%&'()*+,-./:;<=>?@[\\]^_`{|}~\n"
     ]
    }
   ],
   "source": [
    "from string import punctuation\n",
    "print(f'Delimiters in English: \\n{punctuation}')"
   ]
  },
  {
   "cell_type": "code",
   "execution_count": 13,
   "metadata": {},
   "outputs": [
    {
     "data": {
      "text/plain": [
       "str"
      ]
     },
     "execution_count": 13,
     "metadata": {},
     "output_type": "execute_result"
    }
   ],
   "source": [
    "type(data_nltk[\"text\"][0])"
   ]
  },
  {
   "cell_type": "code",
   "execution_count": 14,
   "metadata": {},
   "outputs": [
    {
     "name": "stdout",
     "output_type": "stream",
     "text": [
      "@AppleSupport causing the reply to be disregarded and the tapped notification under the keyboard is opened\n"
     ]
    }
   ],
   "source": [
    "import re\n",
    "\n",
    "#sample_text = u'This dog \\U0001f602'\n",
    "#print(text) # with emoji\n",
    "\n",
    "emoji_pattern = re.compile(\"[\"\n",
    "        u\"\\U0001F600-\\U0001F64F\"  # emoticons\n",
    "        u\"\\U0001F300-\\U0001F5FF\"  # symbols & pictographs\n",
    "        u\"\\U0001F680-\\U0001F6FF\"  # transport & map symbols\n",
    "        u\"\\U0001F1E0-\\U0001F1FF\"  # flags (iOS)\n",
    "                           \"]+\", flags=re.UNICODE)\n",
    "print(emoji_pattern.sub(r'', text[0])) # no emoji\n",
    "\n",
    "data_nltk[\"text\"] = data_nltk[\"text\"].apply(lambda sentence: emoji_pattern.sub(r'', sentence))"
   ]
  },
  {
   "cell_type": "code",
   "execution_count": 15,
   "metadata": {},
   "outputs": [],
   "source": [
    "import string\n",
    "def remove_punctuation(text):\n",
    "  for punctuation in string.punctuation:\n",
    "    text = text.replace(punctuation, '')\n",
    "  return text\n",
    "data_nltk['text'] = data_nltk['text'].apply(remove_punctuation)"
   ]
  },
  {
   "cell_type": "code",
   "execution_count": 16,
   "metadata": {},
   "outputs": [
    {
     "data": {
      "text/plain": [
       "'AppleSupport causing the reply to be disregarded and the tapped notification under the keyboard is opened'"
      ]
     },
     "execution_count": 16,
     "metadata": {},
     "output_type": "execute_result"
    }
   ],
   "source": [
    "data_nltk[\"text\"][0]"
   ]
  },
  {
   "cell_type": "code",
   "execution_count": null,
   "metadata": {},
   "outputs": [],
   "source": []
  },
  {
   "attachments": {
    "Screenshot%20%2868%29.png": {
     "image/png": "[encoded data removed]"
    }
   },
   "cell_type": "markdown",
   "metadata": {
    "papermill": {
     "duration": 0.100385,
     "end_time": "2021-04-17T06:48:49.125585",
     "exception": false,
     "start_time": "2021-04-17T06:48:49.025200",
     "status": "completed"
    },
    "tags": []
   },
   "source": [
    "# **Sentence Tokenization**\n",
    "\n",
    "For any corpus, we first divide a huge entity into smaller entities so that they can be treated individually. Tokenization also does a similar task but upon sentences in text. First, the text is broken down into sentences and that is further broken down into words. The input is given as text or a corpus. The output generates a list of sentences. For example, in the text, \"I love dogs. I have a dog\", the output is [\"I love dogs,” I have a dog”] which is further divided into token like \"I, love, dogs, have, a\".\n",
    "\n",
    "![Screenshot%20%2868%29.png](attachment:Screenshot%20%2868%29.png)"
   ]
  },
  {
   "cell_type": "code",
   "execution_count": 17,
   "metadata": {
    "scrolled": true
   },
   "outputs": [
    {
     "name": "stderr",
     "output_type": "stream",
     "text": [
      "[nltk_data] Downloading package punkt to\n",
      "[nltk_data]     /Users/divya.amith/nltk_data...\n",
      "[nltk_data]   Package punkt is already up-to-date!\n"
     ]
    },
    {
     "data": {
      "text/plain": [
       "True"
      ]
     },
     "execution_count": 17,
     "metadata": {},
     "output_type": "execute_result"
    }
   ],
   "source": [
    "nltk.download('punkt')"
   ]
  },
  {
   "cell_type": "code",
   "execution_count": 18,
   "metadata": {},
   "outputs": [],
   "source": [
    "#creating 2 dataframes to perform nlp text preprocessing using spacy and nltk libraries\n",
    "data_nltk[\"text\"] = data_nltk[\"text\"].apply(str.lower)\n",
    "data_spacy = data_nltk.copy()"
   ]
  },
  {
   "cell_type": "code",
   "execution_count": 19,
   "metadata": {},
   "outputs": [
    {
     "data": {
      "text/plain": [
       "'applesupport causing the reply to be disregarded and the tapped notification under the keyboard is opened'"
      ]
     },
     "execution_count": 19,
     "metadata": {},
     "output_type": "execute_result"
    }
   ],
   "source": [
    "data_nltk[\"text\"][0]"
   ]
  },
  {
   "cell_type": "code",
   "execution_count": 20,
   "metadata": {
    "execution": {
     "iopub.execute_input": "2021-04-17T06:48:49.330329Z",
     "iopub.status.busy": "2021-04-17T06:48:49.329736Z",
     "iopub.status.idle": "2021-04-17T06:48:49.346021Z",
     "shell.execute_reply": "2021-04-17T06:48:49.345471Z"
    },
    "papermill": {
     "duration": 0.120142,
     "end_time": "2021-04-17T06:48:49.346107",
     "exception": false,
     "start_time": "2021-04-17T06:48:49.225965",
     "status": "completed"
    },
    "scrolled": true,
    "tags": []
   },
   "outputs": [],
   "source": [
    "# sents1 = sent_tokenize(text[0])\n",
    "# print(f'Sentence Tokenization using NLTK: \\n {text[0]} => {sents1}')"
   ]
  },
  {
   "cell_type": "code",
   "execution_count": 21,
   "metadata": {},
   "outputs": [],
   "source": [
    "data_nltk[\"text\"] = data_nltk[\"text\"].apply(lambda sentence: [sent_tokenize(sentence)])"
   ]
  },
  {
   "cell_type": "code",
   "execution_count": 22,
   "metadata": {},
   "outputs": [
    {
     "data": {
      "text/plain": [
       "[['applesupport causing the reply to be disregarded and the tapped notification under the keyboard is opened']]"
      ]
     },
     "execution_count": 22,
     "metadata": {},
     "output_type": "execute_result"
    }
   ],
   "source": [
    "data_nltk[\"text\"][0]"
   ]
  },
  {
   "attachments": {
    "fig2-min-min.png": {
     "image/png": "[encoded data removed]"
    }
   },
   "cell_type": "markdown",
   "metadata": {
    "papermill": {
     "duration": 0.101349,
     "end_time": "2021-04-17T06:48:49.547772",
     "exception": false,
     "start_time": "2021-04-17T06:48:49.446423",
     "status": "completed"
    },
    "tags": []
   },
   "source": [
    "# **Word Tokenization**\n",
    "\n",
    "Word tokenization is the same as sentence tokenization. But, rather than applying it to\n",
    "sentences, it is used on words so that individual words are separated as items in a\n",
    "list. For example, in the sentence, \"Chennai is humid,” the result is [\"Chennai,” “is,”\n",
    "“humid”].\n",
    "\n",
    "![fig2-min-min.png](attachment:fig2-min-min.png)"
   ]
  },
  {
   "cell_type": "code",
   "execution_count": 23,
   "metadata": {},
   "outputs": [],
   "source": [
    "#sents1"
   ]
  },
  {
   "cell_type": "code",
   "execution_count": 24,
   "metadata": {
    "execution": {
     "iopub.execute_input": "2021-04-17T06:48:49.755232Z",
     "iopub.status.busy": "2021-04-17T06:48:49.754512Z",
     "iopub.status.idle": "2021-04-17T06:48:49.757663Z",
     "shell.execute_reply": "2021-04-17T06:48:49.758275Z"
    },
    "papermill": {
     "duration": 0.109764,
     "end_time": "2021-04-17T06:48:49.758423",
     "exception": false,
     "start_time": "2021-04-17T06:48:49.648659",
     "status": "completed"
    },
    "scrolled": true,
    "tags": []
   },
   "outputs": [],
   "source": [
    "# words1 = [word_tokenize(sents) for sents in sents1]\n",
    "# print(f'Word Tokenization using NLTK: \\n {sents1} => {words1}')"
   ]
  },
  {
   "cell_type": "code",
   "execution_count": 25,
   "metadata": {},
   "outputs": [],
   "source": [
    "#[sentence for sentence in data_nltk[\"text\"][6]]"
   ]
  },
  {
   "cell_type": "code",
   "execution_count": 26,
   "metadata": {},
   "outputs": [],
   "source": [
    "data_nltk[\"text\"] = data_nltk[\"text\"].apply(lambda sentences: [word_tokenize(\" \".join(sentence)) for sentence in sentences] )"
   ]
  },
  {
   "cell_type": "code",
   "execution_count": 27,
   "metadata": {},
   "outputs": [
    {
     "data": {
      "text/plain": [
       "[['applesupport',\n",
       "  'causing',\n",
       "  'the',\n",
       "  'reply',\n",
       "  'to',\n",
       "  'be',\n",
       "  'disregarded',\n",
       "  'and',\n",
       "  'the',\n",
       "  'tapped',\n",
       "  'notification',\n",
       "  'under',\n",
       "  'the',\n",
       "  'keyboard',\n",
       "  'is',\n",
       "  'opened']]"
      ]
     },
     "execution_count": 27,
     "metadata": {},
     "output_type": "execute_result"
    }
   ],
   "source": [
    "data_nltk[\"text\"][0]"
   ]
  },
  {
   "cell_type": "code",
   "execution_count": 28,
   "metadata": {
    "execution": {
     "iopub.execute_input": "2021-04-17T06:48:49.967753Z",
     "iopub.status.busy": "2021-04-17T06:48:49.966919Z",
     "iopub.status.idle": "2021-04-17T06:48:50.703580Z",
     "shell.execute_reply": "2021-04-17T06:48:50.703078Z"
    },
    "papermill": {
     "duration": 0.842767,
     "end_time": "2021-04-17T06:48:50.703688",
     "exception": false,
     "start_time": "2021-04-17T06:48:49.860921",
     "status": "completed"
    },
    "tags": []
   },
   "outputs": [],
   "source": [
    "#sp = spacy.load('en_core_web_sm')"
   ]
  },
  {
   "cell_type": "code",
   "execution_count": 29,
   "metadata": {
    "execution": {
     "iopub.execute_input": "2021-04-17T06:48:50.914509Z",
     "iopub.status.busy": "2021-04-17T06:48:50.913970Z",
     "iopub.status.idle": "2021-04-17T06:48:50.945207Z",
     "shell.execute_reply": "2021-04-17T06:48:50.946677Z"
    },
    "papermill": {
     "duration": 0.140264,
     "end_time": "2021-04-17T06:48:50.946882",
     "exception": false,
     "start_time": "2021-04-17T06:48:50.806618",
     "status": "completed"
    },
    "scrolled": true,
    "tags": []
   },
   "outputs": [],
   "source": [
    "# print(f'Word Tokenization using SpaCy: \\n\\n{sp(text[0])} =>\\n')\n",
    "\n",
    "# words2 = sp(text[0])\n",
    "# for word in words2:\n",
    "#     print(word)"
   ]
  },
  {
   "attachments": {
    "stopwords-min.jpg": {
     "image/jpeg": "[encoded data removed]"
    }
   },
   "cell_type": "markdown",
   "metadata": {
    "papermill": {
     "duration": 0.103954,
     "end_time": "2021-04-17T06:48:51.157447",
     "exception": false,
     "start_time": "2021-04-17T06:48:51.053493",
     "status": "completed"
    },
    "tags": []
   },
   "source": [
    "# **Stopword Removal**\n",
    "\n",
    "The dataset may contain words like ‘after,’ ‘every’ and ‘I.’ These words are not relevant to important NLP applications like the sentiment detection process. Thereby, these words can be deleted. Stopwords supress the importance of other words due to their number of occurence.\n",
    "\n",
    "![stopwords-min.jpg](attachment:stopwords-min.jpg)"
   ]
  },
  {
   "cell_type": "code",
   "execution_count": 30,
   "metadata": {
    "execution": {
     "iopub.execute_input": "2021-04-17T06:48:51.375054Z",
     "iopub.status.busy": "2021-04-17T06:48:51.374391Z",
     "iopub.status.idle": "2021-04-17T06:48:51.494207Z",
     "shell.execute_reply": "2021-04-17T06:48:51.494668Z"
    },
    "papermill": {
     "duration": 0.235751,
     "end_time": "2021-04-17T06:48:51.494800",
     "exception": false,
     "start_time": "2021-04-17T06:48:51.259049",
     "status": "completed"
    },
    "tags": []
   },
   "outputs": [
    {
     "name": "stderr",
     "output_type": "stream",
     "text": [
      "[nltk_data] Downloading package stopwords to\n",
      "[nltk_data]     /Users/divya.amith/nltk_data...\n",
      "[nltk_data]   Package stopwords is already up-to-date!\n"
     ]
    },
    {
     "data": {
      "text/plain": [
       "True"
      ]
     },
     "execution_count": 30,
     "metadata": {},
     "output_type": "execute_result"
    }
   ],
   "source": [
    "nltk.download('stopwords')"
   ]
  },
  {
   "cell_type": "code",
   "execution_count": 31,
   "metadata": {
    "execution": {
     "iopub.execute_input": "2021-04-17T06:48:51.740081Z",
     "iopub.status.busy": "2021-04-17T06:48:51.739400Z",
     "iopub.status.idle": "2021-04-17T06:48:51.747627Z",
     "shell.execute_reply": "2021-04-17T06:48:51.747021Z"
    },
    "papermill": {
     "duration": 0.150311,
     "end_time": "2021-04-17T06:48:51.747765",
     "exception": false,
     "start_time": "2021-04-17T06:48:51.597454",
     "status": "completed"
    },
    "scrolled": true,
    "tags": []
   },
   "outputs": [
    {
     "name": "stdout",
     "output_type": "stream",
     "text": [
      "i\n",
      "me\n",
      "my\n",
      "myself\n",
      "we\n",
      "our\n",
      "ours\n",
      "ourselves\n",
      "you\n",
      "you're\n",
      "you've\n",
      "you'll\n",
      "you'd\n",
      "your\n",
      "yours\n",
      "yourself\n",
      "yourselves\n",
      "he\n",
      "him\n",
      "his\n",
      "himself\n",
      "she\n",
      "she's\n",
      "her\n",
      "hers\n",
      "herself\n",
      "it\n",
      "it's\n",
      "its\n",
      "itself\n",
      "they\n",
      "them\n",
      "their\n",
      "theirs\n",
      "themselves\n",
      "what\n",
      "which\n",
      "who\n",
      "whom\n",
      "this\n",
      "that\n",
      "that'll\n",
      "these\n",
      "those\n",
      "am\n",
      "is\n",
      "are\n",
      "was\n",
      "were\n",
      "be\n",
      "been\n",
      "being\n",
      "have\n",
      "has\n",
      "had\n",
      "having\n",
      "do\n",
      "does\n",
      "did\n",
      "doing\n",
      "a\n",
      "an\n",
      "the\n",
      "and\n",
      "but\n",
      "if\n",
      "or\n",
      "because\n",
      "as\n",
      "until\n",
      "while\n",
      "of\n",
      "at\n",
      "by\n",
      "for\n",
      "with\n",
      "about\n",
      "against\n",
      "between\n",
      "into\n",
      "through\n",
      "during\n",
      "before\n",
      "after\n",
      "above\n",
      "below\n",
      "to\n",
      "from\n",
      "up\n",
      "down\n",
      "in\n",
      "out\n",
      "on\n",
      "off\n",
      "over\n",
      "under\n",
      "again\n",
      "further\n",
      "then\n",
      "once\n",
      "here\n",
      "there\n",
      "when\n",
      "where\n",
      "why\n",
      "how\n",
      "all\n",
      "any\n",
      "both\n",
      "each\n",
      "few\n",
      "more\n",
      "most\n",
      "other\n",
      "some\n",
      "such\n",
      "no\n",
      "nor\n",
      "not\n",
      "only\n",
      "own\n",
      "same\n",
      "so\n",
      "than\n",
      "too\n",
      "very\n",
      "s\n",
      "t\n",
      "can\n",
      "will\n",
      "just\n",
      "don\n",
      "don't\n",
      "should\n",
      "should've\n",
      "now\n",
      "d\n",
      "ll\n",
      "m\n",
      "o\n",
      "re\n",
      "ve\n",
      "y\n",
      "ain\n",
      "aren\n",
      "aren't\n",
      "couldn\n",
      "couldn't\n",
      "didn\n",
      "didn't\n",
      "doesn\n",
      "doesn't\n",
      "hadn\n",
      "hadn't\n",
      "hasn\n",
      "hasn't\n",
      "haven\n",
      "haven't\n",
      "isn\n",
      "isn't\n",
      "ma\n",
      "mightn\n",
      "mightn't\n",
      "mustn\n",
      "mustn't\n",
      "needn\n",
      "needn't\n",
      "shan\n",
      "shan't\n",
      "shouldn\n",
      "shouldn't\n",
      "wasn\n",
      "wasn't\n",
      "weren\n",
      "weren't\n",
      "won\n",
      "won't\n",
      "wouldn\n",
      "wouldn't\n"
     ]
    }
   ],
   "source": [
    "# tokens1 = [word for word in words1 if not word in stopwords.words('english')] \n",
    "# print(f'Stopword Removal using NLTK: \\n{words1} => {tokens1}')\n",
    "\n",
    "for word in stopwords.words('english'):\n",
    "     print(word)"
   ]
  },
  {
   "cell_type": "code",
   "execution_count": 32,
   "metadata": {},
   "outputs": [],
   "source": [
    "data_nltk[\"text\"] = data_nltk[\"text\"].apply(lambda words: [word for word in words if not word in stopwords.words('english')])"
   ]
  },
  {
   "cell_type": "code",
   "execution_count": 33,
   "metadata": {},
   "outputs": [
    {
     "data": {
      "text/plain": [
       "[['applesupport',\n",
       "  'causing',\n",
       "  'the',\n",
       "  'reply',\n",
       "  'to',\n",
       "  'be',\n",
       "  'disregarded',\n",
       "  'and',\n",
       "  'the',\n",
       "  'tapped',\n",
       "  'notification',\n",
       "  'under',\n",
       "  'the',\n",
       "  'keyboard',\n",
       "  'is',\n",
       "  'opened']]"
      ]
     },
     "execution_count": 33,
     "metadata": {},
     "output_type": "execute_result"
    }
   ],
   "source": [
    "data_nltk[\"text\"][0]"
   ]
  },
  {
   "attachments": {},
   "cell_type": "markdown",
   "metadata": {
    "papermill": {
     "duration": 0.113396,
     "end_time": "2021-04-17T06:48:52.440365",
     "exception": false,
     "start_time": "2021-04-17T06:48:52.326969",
     "status": "completed"
    },
    "tags": []
   },
   "source": []
  },
  {
   "attachments": {
    "SEO-Meta-Tags-min.jpg": {
     "image/jpeg": "[encoded data removed]"
    }
   },
   "cell_type": "markdown",
   "metadata": {
    "papermill": {
     "duration": 0.172613,
     "end_time": "2021-04-17T06:48:53.298674",
     "exception": false,
     "start_time": "2021-04-17T06:48:53.126061",
     "status": "completed"
    },
    "tags": []
   },
   "source": [
    "# **Removal of Tags**\n",
    "\n",
    "During web scraping, the data is scraped from web pages residing on the website, and they contain HTML tags. These tags do not provide any necessary information and hence, can be erased. For example, a tag like < body > (Body Tag) is deleted.\n",
    "\n",
    "![SEO-Meta-Tags-min.jpg](attachment:SEO-Meta-Tags-min.jpg)"
   ]
  },
  {
   "cell_type": "code",
   "execution_count": null,
   "metadata": {
    "execution": {
     "iopub.execute_input": "2021-04-17T06:48:53.739341Z",
     "iopub.status.busy": "2021-04-17T06:48:53.738564Z",
     "iopub.status.idle": "2021-04-17T06:48:53.745716Z",
     "shell.execute_reply": "2021-04-17T06:48:53.737891Z"
    },
    "papermill": {
     "duration": 0.236186,
     "end_time": "2021-04-17T06:48:53.745847",
     "exception": false,
     "start_time": "2021-04-17T06:48:53.509661",
     "status": "completed"
    },
    "tags": []
   },
   "outputs": [],
   "source": [
    "# sent_with_html = \"<head> <title> Natural Language Processing </title> </head>\"\n",
    "# remove_html = re.compile('<.*?>')\n",
    "\n",
    "# print(f\"Removing HTML tags: \\n{sent_with_html} => {re.sub(remove_html, '', sent_with_html).strip()}\")"
   ]
  },
  {
   "cell_type": "code",
   "execution_count": null,
   "metadata": {},
   "outputs": [],
   "source": [
    "# data_nltk['text'] = data_nltk['text'].str.replace('<.*?>', '')\n",
    "# #remove urls as well\n",
    "# data_nltk['text'] = data_nltk['text'].str.replace('http[s]?://(?:[a-z0-9-]+\\.)+[a-z]{2,6}(?:/[^\\\\s/]+)+', '')"
   ]
  },
  {
   "attachments": {
    "09-min.jpg": {
     "image/jpeg": "[encoded data removed]"
    }
   },
   "cell_type": "markdown",
   "metadata": {
    "papermill": {
     "duration": 0.110731,
     "end_time": "2021-04-17T06:48:55.665236",
     "exception": false,
     "start_time": "2021-04-17T06:48:55.554505",
     "status": "completed"
    },
    "tags": []
   },
   "source": [
    "# **Stemming**\n",
    "\n",
    "Stemming applies algorithmic rules to extract the stem out of the derived word. The words produced by this step do not have any essential meaning, but they are simply a bunch of letters put together without affixes. For example, the word “beautiful” is stemmed to “Beauti”.\n",
    "\n",
    "![09-min.jpg](attachment:09-min.jpg)"
   ]
  },
  {
   "cell_type": "code",
   "execution_count": 36,
   "metadata": {
    "execution": {
     "iopub.execute_input": "2021-04-17T06:48:55.895268Z",
     "iopub.status.busy": "2021-04-17T06:48:55.893955Z",
     "iopub.status.idle": "2021-04-17T06:48:55.897515Z",
     "shell.execute_reply": "2021-04-17T06:48:55.895776Z"
    },
    "papermill": {
     "duration": 0.12273,
     "end_time": "2021-04-17T06:48:55.897626",
     "exception": false,
     "start_time": "2021-04-17T06:48:55.774896",
     "status": "completed"
    },
    "tags": []
   },
   "outputs": [
    {
     "name": "stdout",
     "output_type": "stream",
     "text": [
      "Tokens after Stemming using Porter Stemmer: \n",
      "['applesupport', 'caus', 'the', 'repli', 'to', 'be', 'disregard', 'and', 'the', 'tap', 'notif', 'under', 'the', 'keyboard', 'is', 'open']\n"
     ]
    }
   ],
   "source": [
    "tokens1 = ['applesupport',\n",
    "  'causing',\n",
    "  'the',\n",
    "  'reply',\n",
    "  'to',\n",
    "  'be',\n",
    "  'disregarded',\n",
    "  'and',\n",
    "  'the',\n",
    "  'tapped',\n",
    "  'notification',\n",
    "  'under',\n",
    "  'the',\n",
    "  'keyboard',\n",
    "  'is',\n",
    "  'opened']\n",
    "porterStemmer = PorterStemmer()\n",
    "stemWords1 = [porterStemmer.stem(word) for word in tokens1]\n",
    "\n",
    "print(f'Tokens after Stemming using Porter Stemmer: \\n{stemWords1}')"
   ]
  },
  {
   "cell_type": "code",
   "execution_count": 37,
   "metadata": {},
   "outputs": [],
   "source": [
    "data_nltk[\"text\"] = data_nltk[\"text\"].apply(lambda tokenlist: [[porterStemmer.stem(word) for word in tokens] for tokens in tokenlist])"
   ]
  },
  {
   "cell_type": "code",
   "execution_count": 38,
   "metadata": {},
   "outputs": [
    {
     "data": {
      "text/plain": [
       "[['applesupport',\n",
       "  'caus',\n",
       "  'the',\n",
       "  'repli',\n",
       "  'to',\n",
       "  'be',\n",
       "  'disregard',\n",
       "  'and',\n",
       "  'the',\n",
       "  'tap',\n",
       "  'notif',\n",
       "  'under',\n",
       "  'the',\n",
       "  'keyboard',\n",
       "  'is',\n",
       "  'open']]"
      ]
     },
     "execution_count": 38,
     "metadata": {},
     "output_type": "execute_result"
    }
   ],
   "source": [
    "data_nltk[\"text\"][0]"
   ]
  },
  {
   "attachments": {
    "ec28f8ab-2d2f-4c47-a82f-27ebc94d3c0e.png": {
     "image/png": "[encoded data removed]"
    }
   },
   "cell_type": "markdown",
   "metadata": {
    "papermill": {
     "duration": 0.111511,
     "end_time": "2021-04-17T06:48:56.370668",
     "exception": false,
     "start_time": "2021-04-17T06:48:56.259157",
     "status": "completed"
    },
    "tags": []
   },
   "source": [
    "# **Lemmatization**\n",
    "\n",
    "Lemmatization is similar to stemming but it add context to bring out the true meaning. It groups inflected forms of words to be interpretd as a single root word. For example, the word “beautiful” is stemmed to “Beauty” unlike “Beauti”.\n",
    "\n",
    "![stemvslemma.png](attachment:ec28f8ab-2d2f-4c47-a82f-27ebc94d3c0e.png)"
   ]
  },
  {
   "cell_type": "code",
   "execution_count": 39,
   "metadata": {},
   "outputs": [
    {
     "name": "stderr",
     "output_type": "stream",
     "text": [
      "[nltk_data] Downloading package wordnet to\n",
      "[nltk_data]     /Users/divya.amith/nltk_data...\n",
      "[nltk_data]   Package wordnet is already up-to-date!\n"
     ]
    },
    {
     "data": {
      "text/plain": [
       "True"
      ]
     },
     "execution_count": 39,
     "metadata": {},
     "output_type": "execute_result"
    }
   ],
   "source": [
    "nltk.download('wordnet')"
   ]
  },
  {
   "cell_type": "code",
   "execution_count": 40,
   "metadata": {
    "execution": {
     "iopub.execute_input": "2021-04-17T06:48:56.600101Z",
     "iopub.status.busy": "2021-04-17T06:48:56.599374Z",
     "iopub.status.idle": "2021-04-17T06:48:58.566196Z",
     "shell.execute_reply": "2021-04-17T06:48:58.566903Z"
    },
    "papermill": {
     "duration": 2.083287,
     "end_time": "2021-04-17T06:48:58.567075",
     "exception": false,
     "start_time": "2021-04-17T06:48:56.483788",
     "status": "completed"
    },
    "tags": []
   },
   "outputs": [
    {
     "name": "stdout",
     "output_type": "stream",
     "text": [
      "Tokens after Lemmatization using WordNet Lemmatizer: \n",
      "['applesupport', 'causing', 'the', 'reply', 'to', 'be', 'disregarded', 'and', 'the', 'tapped', 'notification', 'under', 'the', 'keyboard', 'is', 'opened'] => ['applesupport', 'causing', 'the', 'reply', 'to', 'be', 'disregarded', 'and', 'the', 'tapped', 'notification', 'under', 'the', 'keyboard', 'is', 'opened']\n"
     ]
    }
   ],
   "source": [
    "wordNetLemmatizer = WordNetLemmatizer()\n",
    "lemmaWords1 = [wordNetLemmatizer.lemmatize(word) for word in tokens1]\n",
    "\n",
    "print(f'Tokens after Lemmatization using WordNet Lemmatizer: \\n{tokens1} => {lemmaWords1}')"
   ]
  },
  {
   "cell_type": "code",
   "execution_count": 41,
   "metadata": {},
   "outputs": [],
   "source": [
    "data_nltk[\"text\"] = data_nltk[\"text\"].apply(lambda tokenlist: [[wordNetLemmatizer.lemmatize(word) for word in tokens] for tokens in tokenlist])"
   ]
  },
  {
   "cell_type": "markdown",
   "metadata": {
    "papermill": {
     "duration": 0.109473,
     "end_time": "2021-04-17T06:48:59.026245",
     "exception": false,
     "start_time": "2021-04-17T06:48:58.916772",
     "status": "completed"
    },
    "tags": []
   },
   "source": [
    "# **FEATURE ENGINEERING**"
   ]
  },
  {
   "attachments": {},
   "cell_type": "markdown",
   "metadata": {
    "papermill": {
     "duration": 0.11024,
     "end_time": "2021-04-17T06:48:59.245947",
     "exception": false,
     "start_time": "2021-04-17T06:48:59.135707",
     "status": "completed"
    },
    "tags": []
   },
   "source": [
    "# **Encoding**\n",
    "\n",
    "Encoding is the process of encrypting data in a format that computers can understand. Humans comprehend natural language. However, a machine is capable of decoding only 0s and 1s. Encoding converts text to digits. For example, the words 'positive' and 'negative' are mapped to the numbers '0' and '1'.\n",
    "\n"
   ]
  },
  {
   "attachments": {
    "OHE.jpg": {
     "image/jpeg": "[encoded data removed]"
    }
   },
   "cell_type": "markdown",
   "metadata": {},
   "source": [
    "![OHE.jpg](attachment:OHE.jpg)"
   ]
  },
  {
   "cell_type": "code",
   "execution_count": 44,
   "metadata": {
    "execution": {
     "iopub.execute_input": "2021-04-17T06:48:59.470819Z",
     "iopub.status.busy": "2021-04-17T06:48:59.470270Z",
     "iopub.status.idle": "2021-04-17T06:48:59.563208Z",
     "shell.execute_reply": "2021-04-17T06:48:59.562397Z"
    },
    "papermill": {
     "duration": 0.209018,
     "end_time": "2021-04-17T06:48:59.563306",
     "exception": false,
     "start_time": "2021-04-17T06:48:59.354288",
     "status": "completed"
    },
    "scrolled": true,
    "tags": []
   },
   "outputs": [
    {
     "name": "stdout",
     "output_type": "stream",
     "text": [
      "Label Encoder\n"
     ]
    },
    {
     "data": {
      "text/html": [
       "<style type=\"text/css\">\n",
       "#T_665fe_row0_col1, #T_665fe_row3_col1, #T_665fe_row9_col1 {\n",
       "  background-color: #bf812d;\n",
       "  color: #f1f1f1;\n",
       "}\n",
       "#T_665fe_row1_col1 {\n",
       "  background-color: #543005;\n",
       "  color: #f1f1f1;\n",
       "}\n",
       "#T_665fe_row2_col1, #T_665fe_row6_col1 {\n",
       "  background-color: #c7eae5;\n",
       "  color: #000000;\n",
       "}\n",
       "#T_665fe_row4_col1, #T_665fe_row5_col1 {\n",
       "  background-color: #f6e8c3;\n",
       "  color: #000000;\n",
       "}\n",
       "#T_665fe_row7_col1 {\n",
       "  background-color: #003c30;\n",
       "  color: #f1f1f1;\n",
       "}\n",
       "#T_665fe_row8_col1 {\n",
       "  background-color: #35978f;\n",
       "  color: #f1f1f1;\n",
       "}\n",
       "</style>\n",
       "<table id=\"T_665fe\">\n",
       "  <thead>\n",
       "    <tr>\n",
       "      <th class=\"blank level0\" >&nbsp;</th>\n",
       "      <th id=\"T_665fe_level0_col0\" class=\"col_heading level0 col0\" >Labels</th>\n",
       "      <th id=\"T_665fe_level0_col1\" class=\"col_heading level0 col1\" >Label Encoder Values</th>\n",
       "    </tr>\n",
       "  </thead>\n",
       "  <tbody>\n",
       "    <tr>\n",
       "      <th id=\"T_665fe_level0_row0\" class=\"row_heading level0 row0\" >0</th>\n",
       "      <td id=\"T_665fe_row0_col0\" class=\"data row0 col0\" >dog</td>\n",
       "      <td id=\"T_665fe_row0_col1\" class=\"data row0 col1\" >1</td>\n",
       "    </tr>\n",
       "    <tr>\n",
       "      <th id=\"T_665fe_level0_row1\" class=\"row_heading level0 row1\" >1</th>\n",
       "      <td id=\"T_665fe_row1_col0\" class=\"data row1 col0\" >cat</td>\n",
       "      <td id=\"T_665fe_row1_col1\" class=\"data row1 col1\" >0</td>\n",
       "    </tr>\n",
       "    <tr>\n",
       "      <th id=\"T_665fe_level0_row2\" class=\"row_heading level0 row2\" >2</th>\n",
       "      <td id=\"T_665fe_row2_col0\" class=\"data row2 col0\" >mouse</td>\n",
       "      <td id=\"T_665fe_row2_col1\" class=\"data row2 col1\" >3</td>\n",
       "    </tr>\n",
       "    <tr>\n",
       "      <th id=\"T_665fe_level0_row3\" class=\"row_heading level0 row3\" >3</th>\n",
       "      <td id=\"T_665fe_row3_col0\" class=\"data row3 col0\" >dog</td>\n",
       "      <td id=\"T_665fe_row3_col1\" class=\"data row3 col1\" >1</td>\n",
       "    </tr>\n",
       "    <tr>\n",
       "      <th id=\"T_665fe_level0_row4\" class=\"row_heading level0 row4\" >4</th>\n",
       "      <td id=\"T_665fe_row4_col0\" class=\"data row4 col0\" >lion</td>\n",
       "      <td id=\"T_665fe_row4_col1\" class=\"data row4 col1\" >2</td>\n",
       "    </tr>\n",
       "    <tr>\n",
       "      <th id=\"T_665fe_level0_row5\" class=\"row_heading level0 row5\" >5</th>\n",
       "      <td id=\"T_665fe_row5_col0\" class=\"data row5 col0\" >lion</td>\n",
       "      <td id=\"T_665fe_row5_col1\" class=\"data row5 col1\" >2</td>\n",
       "    </tr>\n",
       "    <tr>\n",
       "      <th id=\"T_665fe_level0_row6\" class=\"row_heading level0 row6\" >6</th>\n",
       "      <td id=\"T_665fe_row6_col0\" class=\"data row6 col0\" >mouse</td>\n",
       "      <td id=\"T_665fe_row6_col1\" class=\"data row6 col1\" >3</td>\n",
       "    </tr>\n",
       "    <tr>\n",
       "      <th id=\"T_665fe_level0_row7\" class=\"row_heading level0 row7\" >7</th>\n",
       "      <td id=\"T_665fe_row7_col0\" class=\"data row7 col0\" >tiger</td>\n",
       "      <td id=\"T_665fe_row7_col1\" class=\"data row7 col1\" >5</td>\n",
       "    </tr>\n",
       "    <tr>\n",
       "      <th id=\"T_665fe_level0_row8\" class=\"row_heading level0 row8\" >8</th>\n",
       "      <td id=\"T_665fe_row8_col0\" class=\"data row8 col0\" >rat</td>\n",
       "      <td id=\"T_665fe_row8_col1\" class=\"data row8 col1\" >4</td>\n",
       "    </tr>\n",
       "    <tr>\n",
       "      <th id=\"T_665fe_level0_row9\" class=\"row_heading level0 row9\" >9</th>\n",
       "      <td id=\"T_665fe_row9_col0\" class=\"data row9 col0\" >dog</td>\n",
       "      <td id=\"T_665fe_row9_col1\" class=\"data row9 col1\" >1</td>\n",
       "    </tr>\n",
       "  </tbody>\n",
       "</table>\n"
      ],
      "text/plain": [
       "<pandas.io.formats.style.Styler at 0x15845d850>"
      ]
     },
     "execution_count": 44,
     "metadata": {},
     "output_type": "execute_result"
    }
   ],
   "source": [
    "#sample\n",
    "animals = ['dog', 'cat', 'mouse', 'dog', 'lion', 'lion', 'mouse', 'tiger', 'rat', 'dog']\n",
    "\n",
    "label_encoder = preprocessing.LabelEncoder()\n",
    "data = pd.DataFrame({'Labels' : animals, 'Label Encoder Values' : label_encoder.fit_transform(animals)})\n",
    "\n",
    "print(\"Label Encoder\")\n",
    "data.style.background_gradient(cmap = 'BrBG')"
   ]
  },
  {
   "cell_type": "code",
   "execution_count": 45,
   "metadata": {},
   "outputs": [
    {
     "data": {
      "text/plain": [
       "array([['dog'],\n",
       "       ['cat'],\n",
       "       ['mouse'],\n",
       "       ['dog'],\n",
       "       ['lion'],\n",
       "       ['lion'],\n",
       "       ['mouse'],\n",
       "       ['tiger'],\n",
       "       ['rat'],\n",
       "       ['dog']], dtype='<U5')"
      ]
     },
     "execution_count": 45,
     "metadata": {},
     "output_type": "execute_result"
    }
   ],
   "source": [
    "animals = np.array(['dog', 'cat', 'mouse', 'dog', 'lion', 'lion', 'mouse', 'tiger', 'rat', 'dog'])\n",
    "\n",
    "animals.reshape(-1,1)"
   ]
  },
  {
   "cell_type": "code",
   "execution_count": 46,
   "metadata": {
    "execution": {
     "iopub.execute_input": "2021-04-17T06:48:59.800598Z",
     "iopub.status.busy": "2021-04-17T06:48:59.799733Z",
     "iopub.status.idle": "2021-04-17T06:48:59.823672Z",
     "shell.execute_reply": "2021-04-17T06:48:59.823061Z"
    },
    "papermill": {
     "duration": 0.149953,
     "end_time": "2021-04-17T06:48:59.823788",
     "exception": false,
     "start_time": "2021-04-17T06:48:59.673835",
     "status": "completed"
    },
    "tags": []
   },
   "outputs": [
    {
     "name": "stdout",
     "output_type": "stream",
     "text": [
      "One Hot Encoder\n"
     ]
    },
    {
     "data": {
      "text/html": [
       "<style type=\"text/css\">\n",
       "#T_b135f_row0_col0, #T_b135f_row0_col2, #T_b135f_row0_col3, #T_b135f_row0_col4, #T_b135f_row0_col5, #T_b135f_row1_col1, #T_b135f_row1_col2, #T_b135f_row1_col3, #T_b135f_row1_col4, #T_b135f_row1_col5, #T_b135f_row2_col0, #T_b135f_row2_col1, #T_b135f_row2_col2, #T_b135f_row2_col4, #T_b135f_row2_col5, #T_b135f_row3_col0, #T_b135f_row3_col2, #T_b135f_row3_col3, #T_b135f_row3_col4, #T_b135f_row3_col5, #T_b135f_row4_col0, #T_b135f_row4_col1, #T_b135f_row4_col3, #T_b135f_row4_col4, #T_b135f_row4_col5, #T_b135f_row5_col0, #T_b135f_row5_col1, #T_b135f_row5_col3, #T_b135f_row5_col4, #T_b135f_row5_col5, #T_b135f_row6_col0, #T_b135f_row6_col1, #T_b135f_row6_col2, #T_b135f_row6_col4, #T_b135f_row6_col5, #T_b135f_row7_col0, #T_b135f_row7_col1, #T_b135f_row7_col2, #T_b135f_row7_col3, #T_b135f_row7_col4, #T_b135f_row8_col0, #T_b135f_row8_col1, #T_b135f_row8_col2, #T_b135f_row8_col3, #T_b135f_row8_col5, #T_b135f_row9_col0, #T_b135f_row9_col2, #T_b135f_row9_col3, #T_b135f_row9_col4, #T_b135f_row9_col5 {\n",
       "  background-color: #e4ff7a;\n",
       "  color: #000000;\n",
       "}\n",
       "#T_b135f_row0_col1, #T_b135f_row1_col0, #T_b135f_row2_col3, #T_b135f_row3_col1, #T_b135f_row4_col2, #T_b135f_row5_col2, #T_b135f_row6_col3, #T_b135f_row7_col5, #T_b135f_row8_col4, #T_b135f_row9_col1 {\n",
       "  background-color: #fc7f00;\n",
       "  color: #f1f1f1;\n",
       "}\n",
       "</style>\n",
       "<table id=\"T_b135f\">\n",
       "  <thead>\n",
       "    <tr>\n",
       "      <th class=\"blank level0\" >&nbsp;</th>\n",
       "      <th id=\"T_b135f_level0_col0\" class=\"col_heading level0 col0\" >0</th>\n",
       "      <th id=\"T_b135f_level0_col1\" class=\"col_heading level0 col1\" >1</th>\n",
       "      <th id=\"T_b135f_level0_col2\" class=\"col_heading level0 col2\" >2</th>\n",
       "      <th id=\"T_b135f_level0_col3\" class=\"col_heading level0 col3\" >3</th>\n",
       "      <th id=\"T_b135f_level0_col4\" class=\"col_heading level0 col4\" >4</th>\n",
       "      <th id=\"T_b135f_level0_col5\" class=\"col_heading level0 col5\" >5</th>\n",
       "      <th id=\"T_b135f_level0_col6\" class=\"col_heading level0 col6\" >Labels</th>\n",
       "    </tr>\n",
       "  </thead>\n",
       "  <tbody>\n",
       "    <tr>\n",
       "      <th id=\"T_b135f_level0_row0\" class=\"row_heading level0 row0\" >0</th>\n",
       "      <td id=\"T_b135f_row0_col0\" class=\"data row0 col0\" >0</td>\n",
       "      <td id=\"T_b135f_row0_col1\" class=\"data row0 col1\" >1</td>\n",
       "      <td id=\"T_b135f_row0_col2\" class=\"data row0 col2\" >0</td>\n",
       "      <td id=\"T_b135f_row0_col3\" class=\"data row0 col3\" >0</td>\n",
       "      <td id=\"T_b135f_row0_col4\" class=\"data row0 col4\" >0</td>\n",
       "      <td id=\"T_b135f_row0_col5\" class=\"data row0 col5\" >0</td>\n",
       "      <td id=\"T_b135f_row0_col6\" class=\"data row0 col6\" >dog</td>\n",
       "    </tr>\n",
       "    <tr>\n",
       "      <th id=\"T_b135f_level0_row1\" class=\"row_heading level0 row1\" >1</th>\n",
       "      <td id=\"T_b135f_row1_col0\" class=\"data row1 col0\" >1</td>\n",
       "      <td id=\"T_b135f_row1_col1\" class=\"data row1 col1\" >0</td>\n",
       "      <td id=\"T_b135f_row1_col2\" class=\"data row1 col2\" >0</td>\n",
       "      <td id=\"T_b135f_row1_col3\" class=\"data row1 col3\" >0</td>\n",
       "      <td id=\"T_b135f_row1_col4\" class=\"data row1 col4\" >0</td>\n",
       "      <td id=\"T_b135f_row1_col5\" class=\"data row1 col5\" >0</td>\n",
       "      <td id=\"T_b135f_row1_col6\" class=\"data row1 col6\" >cat</td>\n",
       "    </tr>\n",
       "    <tr>\n",
       "      <th id=\"T_b135f_level0_row2\" class=\"row_heading level0 row2\" >2</th>\n",
       "      <td id=\"T_b135f_row2_col0\" class=\"data row2 col0\" >0</td>\n",
       "      <td id=\"T_b135f_row2_col1\" class=\"data row2 col1\" >0</td>\n",
       "      <td id=\"T_b135f_row2_col2\" class=\"data row2 col2\" >0</td>\n",
       "      <td id=\"T_b135f_row2_col3\" class=\"data row2 col3\" >1</td>\n",
       "      <td id=\"T_b135f_row2_col4\" class=\"data row2 col4\" >0</td>\n",
       "      <td id=\"T_b135f_row2_col5\" class=\"data row2 col5\" >0</td>\n",
       "      <td id=\"T_b135f_row2_col6\" class=\"data row2 col6\" >mouse</td>\n",
       "    </tr>\n",
       "    <tr>\n",
       "      <th id=\"T_b135f_level0_row3\" class=\"row_heading level0 row3\" >3</th>\n",
       "      <td id=\"T_b135f_row3_col0\" class=\"data row3 col0\" >0</td>\n",
       "      <td id=\"T_b135f_row3_col1\" class=\"data row3 col1\" >1</td>\n",
       "      <td id=\"T_b135f_row3_col2\" class=\"data row3 col2\" >0</td>\n",
       "      <td id=\"T_b135f_row3_col3\" class=\"data row3 col3\" >0</td>\n",
       "      <td id=\"T_b135f_row3_col4\" class=\"data row3 col4\" >0</td>\n",
       "      <td id=\"T_b135f_row3_col5\" class=\"data row3 col5\" >0</td>\n",
       "      <td id=\"T_b135f_row3_col6\" class=\"data row3 col6\" >dog</td>\n",
       "    </tr>\n",
       "    <tr>\n",
       "      <th id=\"T_b135f_level0_row4\" class=\"row_heading level0 row4\" >4</th>\n",
       "      <td id=\"T_b135f_row4_col0\" class=\"data row4 col0\" >0</td>\n",
       "      <td id=\"T_b135f_row4_col1\" class=\"data row4 col1\" >0</td>\n",
       "      <td id=\"T_b135f_row4_col2\" class=\"data row4 col2\" >1</td>\n",
       "      <td id=\"T_b135f_row4_col3\" class=\"data row4 col3\" >0</td>\n",
       "      <td id=\"T_b135f_row4_col4\" class=\"data row4 col4\" >0</td>\n",
       "      <td id=\"T_b135f_row4_col5\" class=\"data row4 col5\" >0</td>\n",
       "      <td id=\"T_b135f_row4_col6\" class=\"data row4 col6\" >lion</td>\n",
       "    </tr>\n",
       "    <tr>\n",
       "      <th id=\"T_b135f_level0_row5\" class=\"row_heading level0 row5\" >5</th>\n",
       "      <td id=\"T_b135f_row5_col0\" class=\"data row5 col0\" >0</td>\n",
       "      <td id=\"T_b135f_row5_col1\" class=\"data row5 col1\" >0</td>\n",
       "      <td id=\"T_b135f_row5_col2\" class=\"data row5 col2\" >1</td>\n",
       "      <td id=\"T_b135f_row5_col3\" class=\"data row5 col3\" >0</td>\n",
       "      <td id=\"T_b135f_row5_col4\" class=\"data row5 col4\" >0</td>\n",
       "      <td id=\"T_b135f_row5_col5\" class=\"data row5 col5\" >0</td>\n",
       "      <td id=\"T_b135f_row5_col6\" class=\"data row5 col6\" >lion</td>\n",
       "    </tr>\n",
       "    <tr>\n",
       "      <th id=\"T_b135f_level0_row6\" class=\"row_heading level0 row6\" >6</th>\n",
       "      <td id=\"T_b135f_row6_col0\" class=\"data row6 col0\" >0</td>\n",
       "      <td id=\"T_b135f_row6_col1\" class=\"data row6 col1\" >0</td>\n",
       "      <td id=\"T_b135f_row6_col2\" class=\"data row6 col2\" >0</td>\n",
       "      <td id=\"T_b135f_row6_col3\" class=\"data row6 col3\" >1</td>\n",
       "      <td id=\"T_b135f_row6_col4\" class=\"data row6 col4\" >0</td>\n",
       "      <td id=\"T_b135f_row6_col5\" class=\"data row6 col5\" >0</td>\n",
       "      <td id=\"T_b135f_row6_col6\" class=\"data row6 col6\" >mouse</td>\n",
       "    </tr>\n",
       "    <tr>\n",
       "      <th id=\"T_b135f_level0_row7\" class=\"row_heading level0 row7\" >7</th>\n",
       "      <td id=\"T_b135f_row7_col0\" class=\"data row7 col0\" >0</td>\n",
       "      <td id=\"T_b135f_row7_col1\" class=\"data row7 col1\" >0</td>\n",
       "      <td id=\"T_b135f_row7_col2\" class=\"data row7 col2\" >0</td>\n",
       "      <td id=\"T_b135f_row7_col3\" class=\"data row7 col3\" >0</td>\n",
       "      <td id=\"T_b135f_row7_col4\" class=\"data row7 col4\" >0</td>\n",
       "      <td id=\"T_b135f_row7_col5\" class=\"data row7 col5\" >1</td>\n",
       "      <td id=\"T_b135f_row7_col6\" class=\"data row7 col6\" >tiger</td>\n",
       "    </tr>\n",
       "    <tr>\n",
       "      <th id=\"T_b135f_level0_row8\" class=\"row_heading level0 row8\" >8</th>\n",
       "      <td id=\"T_b135f_row8_col0\" class=\"data row8 col0\" >0</td>\n",
       "      <td id=\"T_b135f_row8_col1\" class=\"data row8 col1\" >0</td>\n",
       "      <td id=\"T_b135f_row8_col2\" class=\"data row8 col2\" >0</td>\n",
       "      <td id=\"T_b135f_row8_col3\" class=\"data row8 col3\" >0</td>\n",
       "      <td id=\"T_b135f_row8_col4\" class=\"data row8 col4\" >1</td>\n",
       "      <td id=\"T_b135f_row8_col5\" class=\"data row8 col5\" >0</td>\n",
       "      <td id=\"T_b135f_row8_col6\" class=\"data row8 col6\" >rat</td>\n",
       "    </tr>\n",
       "    <tr>\n",
       "      <th id=\"T_b135f_level0_row9\" class=\"row_heading level0 row9\" >9</th>\n",
       "      <td id=\"T_b135f_row9_col0\" class=\"data row9 col0\" >0</td>\n",
       "      <td id=\"T_b135f_row9_col1\" class=\"data row9 col1\" >1</td>\n",
       "      <td id=\"T_b135f_row9_col2\" class=\"data row9 col2\" >0</td>\n",
       "      <td id=\"T_b135f_row9_col3\" class=\"data row9 col3\" >0</td>\n",
       "      <td id=\"T_b135f_row9_col4\" class=\"data row9 col4\" >0</td>\n",
       "      <td id=\"T_b135f_row9_col5\" class=\"data row9 col5\" >0</td>\n",
       "      <td id=\"T_b135f_row9_col6\" class=\"data row9 col6\" >dog</td>\n",
       "    </tr>\n",
       "  </tbody>\n",
       "</table>\n"
      ],
      "text/plain": [
       "<pandas.io.formats.style.Styler at 0x158460cd0>"
      ]
     },
     "execution_count": 46,
     "metadata": {},
     "output_type": "execute_result"
    }
   ],
   "source": [
    "animals = np.array(['dog', 'cat', 'mouse', 'dog', 'lion', 'lion', 'mouse', 'tiger', 'rat', 'dog'])\n",
    "\n",
    "ohe = preprocessing.OneHotEncoder()\n",
    "result = ohe.fit_transform(animals.reshape(-1,1)).toarray()\n",
    "\n",
    "data = pd.DataFrame(result.astype(int))\n",
    "data['Labels'] = animals\n",
    "\n",
    "print(\"One Hot Encoder\")\n",
    "data.style.background_gradient(cmap = 'Wistia')"
   ]
  },
  {
   "cell_type": "code",
   "execution_count": 47,
   "metadata": {},
   "outputs": [
    {
     "data": {
      "text/plain": [
       "array(['dog', 'cat', 'mouse', 'dog', 'lion', 'lion', 'mouse', 'tiger',\n",
       "       'rat', 'dog'], dtype='<U5')"
      ]
     },
     "execution_count": 47,
     "metadata": {},
     "output_type": "execute_result"
    }
   ],
   "source": [
    "animals"
   ]
  },
  {
   "cell_type": "code",
   "execution_count": 70,
   "metadata": {},
   "outputs": [
    {
     "data": {
      "text/html": [
       "<div>\n",
       "<style scoped>\n",
       "    .dataframe tbody tr th:only-of-type {\n",
       "        vertical-align: middle;\n",
       "    }\n",
       "\n",
       "    .dataframe tbody tr th {\n",
       "        vertical-align: top;\n",
       "    }\n",
       "\n",
       "    .dataframe thead th {\n",
       "        text-align: right;\n",
       "    }\n",
       "</style>\n",
       "<table border=\"1\" class=\"dataframe\">\n",
       "  <thead>\n",
       "    <tr style=\"text-align: right;\">\n",
       "      <th></th>\n",
       "      <th>tweet_id</th>\n",
       "      <th>author_id</th>\n",
       "      <th>inbound</th>\n",
       "      <th>created_at</th>\n",
       "      <th>text</th>\n",
       "      <th>response_tweet_id</th>\n",
       "      <th>in_response_to_tweet_id</th>\n",
       "      <th>labels</th>\n",
       "    </tr>\n",
       "  </thead>\n",
       "  <tbody>\n",
       "    <tr>\n",
       "      <th>0</th>\n",
       "      <td>119237</td>\n",
       "      <td>105834</td>\n",
       "      <td>True</td>\n",
       "      <td>Wed Oct 11 06:55:44 +0000 2017</td>\n",
       "      <td>[[applesupport, caus, the, repli, to, be, disr...</td>\n",
       "      <td>119236</td>\n",
       "      <td>NaN</td>\n",
       "      <td>(0, 1)\\t1.0\\n  (1, 3)\\t1.0\\n  (2, 11)\\t1.0\\n...</td>\n",
       "    </tr>\n",
       "    <tr>\n",
       "      <th>1</th>\n",
       "      <td>119238</td>\n",
       "      <td>ChaseSupport</td>\n",
       "      <td>False</td>\n",
       "      <td>Wed Oct 11 13:25:49 +0000 2017</td>\n",
       "      <td>[[105835, your, busi, mean, a, lot, to, u, ple...</td>\n",
       "      <td>NaN</td>\n",
       "      <td>119239.0</td>\n",
       "      <td>(0, 0)\\t1.0\\n  (1, 18)\\t1.0\\n  (2, 5)\\t1.0\\n...</td>\n",
       "    </tr>\n",
       "    <tr>\n",
       "      <th>2</th>\n",
       "      <td>119239</td>\n",
       "      <td>105835</td>\n",
       "      <td>True</td>\n",
       "      <td>Wed Oct 11 13:00:09 +0000 2017</td>\n",
       "      <td>[[76328, i, realli, hope, you, all, chang, but...</td>\n",
       "      <td>119238</td>\n",
       "      <td>NaN</td>\n",
       "      <td>(0, 0)\\t1.0\\n  (1, 8)\\t1.0\\n  (2, 10)\\t1.0\\n...</td>\n",
       "    </tr>\n",
       "    <tr>\n",
       "      <th>3</th>\n",
       "      <td>119240</td>\n",
       "      <td>VirginTrains</td>\n",
       "      <td>False</td>\n",
       "      <td>Tue Oct 10 15:16:08 +0000 2017</td>\n",
       "      <td>[[105836, livechat, is, onlin, at, the, moment...</td>\n",
       "      <td>119241</td>\n",
       "      <td>119242.0</td>\n",
       "      <td>(0, 3)\\t1.0\\n  (1, 14)\\t1.0\\n  (2, 12)\\t1.0\\...</td>\n",
       "    </tr>\n",
       "    <tr>\n",
       "      <th>4</th>\n",
       "      <td>119241</td>\n",
       "      <td>105836</td>\n",
       "      <td>True</td>\n",
       "      <td>Tue Oct 10 15:17:21 +0000 2017</td>\n",
       "      <td>[[virgintrain, see, attach, error, messag, ive...</td>\n",
       "      <td>119243</td>\n",
       "      <td>119240.0</td>\n",
       "      <td>(0, 14)\\t1.0\\n  (1, 9)\\t1.0\\n  (2, 1)\\t1.0\\n...</td>\n",
       "    </tr>\n",
       "  </tbody>\n",
       "</table>\n",
       "</div>"
      ],
      "text/plain": [
       "   tweet_id     author_id  inbound                      created_at  \\\n",
       "0    119237        105834     True  Wed Oct 11 06:55:44 +0000 2017   \n",
       "1    119238  ChaseSupport    False  Wed Oct 11 13:25:49 +0000 2017   \n",
       "2    119239        105835     True  Wed Oct 11 13:00:09 +0000 2017   \n",
       "3    119240  VirginTrains    False  Tue Oct 10 15:16:08 +0000 2017   \n",
       "4    119241        105836     True  Tue Oct 10 15:17:21 +0000 2017   \n",
       "\n",
       "                                                text response_tweet_id  \\\n",
       "0  [[applesupport, caus, the, repli, to, be, disr...            119236   \n",
       "1  [[105835, your, busi, mean, a, lot, to, u, ple...               NaN   \n",
       "2  [[76328, i, realli, hope, you, all, chang, but...            119238   \n",
       "3  [[105836, livechat, is, onlin, at, the, moment...            119241   \n",
       "4  [[virgintrain, see, attach, error, messag, ive...            119243   \n",
       "\n",
       "   in_response_to_tweet_id                                             labels  \n",
       "0                      NaN    (0, 1)\\t1.0\\n  (1, 3)\\t1.0\\n  (2, 11)\\t1.0\\n...  \n",
       "1                 119239.0    (0, 0)\\t1.0\\n  (1, 18)\\t1.0\\n  (2, 5)\\t1.0\\n...  \n",
       "2                      NaN    (0, 0)\\t1.0\\n  (1, 8)\\t1.0\\n  (2, 10)\\t1.0\\n...  \n",
       "3                 119242.0    (0, 3)\\t1.0\\n  (1, 14)\\t1.0\\n  (2, 12)\\t1.0\\...  \n",
       "4                 119240.0    (0, 14)\\t1.0\\n  (1, 9)\\t1.0\\n  (2, 1)\\t1.0\\n...  "
      ]
     },
     "execution_count": 70,
     "metadata": {},
     "output_type": "execute_result"
    }
   ],
   "source": [
    "def flatten_list(test_list):\n",
    "    if isinstance(test_list, list):\n",
    "        temp = []\n",
    "        for ele in test_list:\n",
    "            temp.extend(flatten(ele))\n",
    "        return temp\n",
    "    else:\n",
    "        return [test_list]\n",
    "ohe_twitter = preprocessing.OneHotEncoder()\n",
    "k = data_nltk.copy()\n",
    "enc_data = k['text'].apply(lambda x: ohe_twitter.fit_transform(np.array(flatten_list(x)).reshape(-1,1)))\n",
    "k.head()"
   ]
  },
  {
   "cell_type": "code",
   "execution_count": 71,
   "metadata": {},
   "outputs": [
    {
     "data": {
      "text/plain": [
       "<16x14 sparse matrix of type '<class 'numpy.float64'>'\n",
       "\twith 16 stored elements in Compressed Sparse Row format>"
      ]
     },
     "execution_count": 71,
     "metadata": {},
     "output_type": "execute_result"
    }
   ],
   "source": [
    "k['labels'][0]"
   ]
  },
  {
   "attachments": {},
   "cell_type": "markdown",
   "metadata": {
    "papermill": {
     "duration": 0.111271,
     "end_time": "2021-04-17T06:49:00.046724",
     "exception": false,
     "start_time": "2021-04-17T06:48:59.935453",
     "status": "completed"
    },
    "tags": []
   },
   "source": [
    "# **POS Tagger**\n",
    "\n",
    "POS tagger is parts of speech tagger that is an in-built function found in a standard library. It tags the words in the sentences according to the grammar of the langauge. For example, in the text, “The pizza was disgusting but the location was beautiful”, the result after implementing POS tagger will be [“The [DT]”, “pizza [NN]”, “is [VB]”, “disgusting [VBG]”, “but [CC]”, “the [DT]”, “location [NN]”, “was [VBD], “beautiful [JJ]].\n"
   ]
  },
  {
   "attachments": {
    "1_qZELwIpKeEQ-j3EnRF-CrQ-2.jpg": {
     "image/jpeg": "[encoded data removed]"
    }
   },
   "cell_type": "markdown",
   "metadata": {},
   "source": [
    "![1_qZELwIpKeEQ-j3EnRF-CrQ-2.jpg](attachment:1_qZELwIpKeEQ-j3EnRF-CrQ-2.jpg)"
   ]
  },
  {
   "cell_type": "code",
   "execution_count": 72,
   "metadata": {},
   "outputs": [
    {
     "name": "stderr",
     "output_type": "stream",
     "text": [
      "[nltk_data] Downloading package averaged_perceptron_tagger to\n",
      "[nltk_data]     /Users/divya.amith/nltk_data...\n",
      "[nltk_data]   Package averaged_perceptron_tagger is already up-to-\n",
      "[nltk_data]       date!\n"
     ]
    },
    {
     "data": {
      "text/plain": [
       "True"
      ]
     },
     "execution_count": 72,
     "metadata": {},
     "output_type": "execute_result"
    }
   ],
   "source": [
    "nltk.download('averaged_perceptron_tagger')"
   ]
  },
  {
   "cell_type": "code",
   "execution_count": 73,
   "metadata": {
    "execution": {
     "iopub.execute_input": "2021-04-17T06:49:00.278628Z",
     "iopub.status.busy": "2021-04-17T06:49:00.278000Z",
     "iopub.status.idle": "2021-04-17T06:49:00.380181Z",
     "shell.execute_reply": "2021-04-17T06:49:00.380618Z"
    },
    "papermill": {
     "duration": 0.222672,
     "end_time": "2021-04-17T06:49:00.380752",
     "exception": false,
     "start_time": "2021-04-17T06:49:00.158080",
     "status": "completed"
    },
    "scrolled": false,
    "tags": []
   },
   "outputs": [
    {
     "name": "stdout",
     "output_type": "stream",
     "text": [
      "POS tagging using NLTK: \n",
      "['applesupport', 'causing', 'the', 'reply', 'to', 'be', 'disregarded', 'and', 'the', 'tapped', 'notification', 'under', 'the', 'keyboard', 'is', 'opened'] => [('applesupport', 'NN'), ('causing', 'VBG'), ('the', 'DT'), ('reply', 'NN'), ('to', 'TO'), ('be', 'VB'), ('disregarded', 'VBN'), ('and', 'CC'), ('the', 'DT'), ('tapped', 'JJ'), ('notification', 'NN'), ('under', 'IN'), ('the', 'DT'), ('keyboard', 'NN'), ('is', 'VBZ'), ('opened', 'VBN')]\n"
     ]
    }
   ],
   "source": [
    "tagged_tokens1 = nltk.pos_tag(tokens1)\n",
    "\n",
    "print(f'POS tagging using NLTK: \\n{tokens1} => {tagged_tokens1}')"
   ]
  },
  {
   "cell_type": "code",
   "execution_count": 75,
   "metadata": {
    "execution": {
     "iopub.execute_input": "2021-04-17T06:49:00.625617Z",
     "iopub.status.busy": "2021-04-17T06:49:00.624727Z",
     "iopub.status.idle": "2021-04-17T06:49:00.630074Z",
     "shell.execute_reply": "2021-04-17T06:49:00.629615Z"
    },
    "papermill": {
     "duration": 0.124956,
     "end_time": "2021-04-17T06:49:00.630161",
     "exception": false,
     "start_time": "2021-04-17T06:49:00.505205",
     "status": "completed"
    },
    "tags": []
   },
   "outputs": [
    {
     "ename": "AttributeError",
     "evalue": "'str' object has no attribute 'pos_'",
     "output_type": "error",
     "traceback": [
      "\u001b[0;31m---------------------------------------------------------------------------\u001b[0m",
      "\u001b[0;31mAttributeError\u001b[0m                            Traceback (most recent call last)",
      "Cell \u001b[0;32mIn[75], line 1\u001b[0m\n\u001b[0;32m----> 1\u001b[0m tagged_tokens2 \u001b[38;5;241m=\u001b[39m [word\u001b[38;5;241m.\u001b[39mpos_ \u001b[38;5;28;01mfor\u001b[39;00m word \u001b[38;5;129;01min\u001b[39;00m tokens1]\n\u001b[1;32m      3\u001b[0m \u001b[38;5;28mprint\u001b[39m(\u001b[38;5;124m'\u001b[39m\u001b[38;5;124mPOS tagging using SpaCy: \u001b[39m\u001b[38;5;130;01m\\n\u001b[39;00m\u001b[38;5;124m'\u001b[39m)\n\u001b[1;32m      4\u001b[0m \u001b[38;5;28;01mfor\u001b[39;00m i \u001b[38;5;129;01min\u001b[39;00m \u001b[38;5;28mrange\u001b[39m(\u001b[38;5;28mlen\u001b[39m(tagged_tokens2)):\n",
      "Cell \u001b[0;32mIn[75], line 1\u001b[0m, in \u001b[0;36m<listcomp>\u001b[0;34m(.0)\u001b[0m\n\u001b[0;32m----> 1\u001b[0m tagged_tokens2 \u001b[38;5;241m=\u001b[39m [word\u001b[38;5;241m.\u001b[39mpos_ \u001b[38;5;28;01mfor\u001b[39;00m word \u001b[38;5;129;01min\u001b[39;00m tokens1]\n\u001b[1;32m      3\u001b[0m \u001b[38;5;28mprint\u001b[39m(\u001b[38;5;124m'\u001b[39m\u001b[38;5;124mPOS tagging using SpaCy: \u001b[39m\u001b[38;5;130;01m\\n\u001b[39;00m\u001b[38;5;124m'\u001b[39m)\n\u001b[1;32m      4\u001b[0m \u001b[38;5;28;01mfor\u001b[39;00m i \u001b[38;5;129;01min\u001b[39;00m \u001b[38;5;28mrange\u001b[39m(\u001b[38;5;28mlen\u001b[39m(tagged_tokens2)):\n",
      "\u001b[0;31mAttributeError\u001b[0m: 'str' object has no attribute 'pos_'"
     ]
    }
   ],
   "source": [
    "tagged_tokens2 = [word.pos_ for word in tokens1]\n",
    "\n",
    "print('POS tagging using SpaCy: \\n')\n",
    "for i in range(len(tagged_tokens2)):\n",
    "    print(f'{tokens1[i]} : {tagged_tokens2[i]}')"
   ]
  },
  {
   "attachments": {
    "7356.1569499094-min.png": {
     "image/png": "[encoded data removed]"
    }
   },
   "cell_type": "markdown",
   "metadata": {
    "papermill": {
     "duration": 0.112299,
     "end_time": "2021-04-17T06:49:00.854889",
     "exception": false,
     "start_time": "2021-04-17T06:49:00.742590",
     "status": "completed"
    },
    "tags": []
   },
   "source": [
    "# **N-Gram**\n",
    "\n",
    "N-gram is a language model widely used in NLP and is applied to statistical problems involving text and audio. It is a probabilistic model that predicts the next series of words. For example, in the sentence, “The movie was boring.” Unigram processes the text as [“The”, “movie”, “was”, “boring”]. Bi-gram processes the text as [“The movie”, “movie was”, “was boring”]. Tri-gram processes the text as [“The movie was”, “movie was boring”]\n",
    "\n",
    "![7356.1569499094-min.png](attachment:7356.1569499094-min.png)"
   ]
  },
  {
   "cell_type": "code",
   "execution_count": null,
   "metadata": {
    "execution": {
     "iopub.execute_input": "2021-04-17T06:49:01.084260Z",
     "iopub.status.busy": "2021-04-17T06:49:01.083564Z",
     "iopub.status.idle": "2021-04-17T06:49:01.086665Z",
     "shell.execute_reply": "2021-04-17T06:49:01.087285Z"
    },
    "papermill": {
     "duration": 0.120491,
     "end_time": "2021-04-17T06:49:01.087437",
     "exception": false,
     "start_time": "2021-04-17T06:49:00.966946",
     "status": "completed"
    },
    "tags": []
   },
   "outputs": [],
   "source": [
    "n_grams1 = ngrams(tokens1, 2)\n",
    "n_grams1 = [ ' '.join(grams) for grams in n_grams1]\n",
    "\n",
    "print(f'N-Gram using NLTK (n = 2): \\n{tokens1} => {n_grams1}')"
   ]
  },
  {
   "cell_type": "code",
   "execution_count": null,
   "metadata": {
    "execution": {
     "iopub.execute_input": "2021-04-17T06:49:01.326243Z",
     "iopub.status.busy": "2021-04-17T06:49:01.325607Z",
     "iopub.status.idle": "2021-04-17T06:49:01.328739Z",
     "shell.execute_reply": "2021-04-17T06:49:01.329161Z"
    },
    "papermill": {
     "duration": 0.128781,
     "end_time": "2021-04-17T06:49:01.329273",
     "exception": false,
     "start_time": "2021-04-17T06:49:01.200492",
     "status": "completed"
    },
    "scrolled": true,
    "tags": []
   },
   "outputs": [],
   "source": [
    "n_gram_finder = nltk.collocations.TrigramCollocationFinder.from_words(tokens1)\n",
    "\n",
    "print(f'Most Common N-Gram Finder using NLTK (n = 3): \\n{tokens1} => {n_gram_finder.ngram_fd.most_common(2)}')"
   ]
  },
  {
   "attachments": {
    "image-20190906164045-2-min.jpeg": {
     "image/jpeg": "[encoded data removed]"
    }
   },
   "cell_type": "markdown",
   "metadata": {
    "papermill": {
     "duration": 0.112455,
     "end_time": "2021-04-17T06:49:01.554970",
     "exception": false,
     "start_time": "2021-04-17T06:49:01.442515",
     "status": "completed"
    },
    "tags": []
   },
   "source": [
    "# **Bag of Words**\n",
    "\n",
    "The bag of words carries out sentence tokenization and word tokenization. After that, it counts the number of appearances of each word. For example, in a sentence, “It is nice but horrid, and that’s not a nice thing.” The word “nice” is extracted and countered with two occurrences.\n",
    "\n",
    "![image-20190906164045-2-min.jpeg](attachment:image-20190906164045-2-min.jpeg)"
   ]
  },
  {
   "cell_type": "code",
   "execution_count": null,
   "metadata": {
    "execution": {
     "iopub.execute_input": "2021-04-17T06:49:01.785246Z",
     "iopub.status.busy": "2021-04-17T06:49:01.784571Z",
     "iopub.status.idle": "2021-04-17T06:49:01.788419Z",
     "shell.execute_reply": "2021-04-17T06:49:01.788006Z"
    },
    "papermill": {
     "duration": 0.121347,
     "end_time": "2021-04-17T06:49:01.788507",
     "exception": false,
     "start_time": "2021-04-17T06:49:01.667160",
     "status": "completed"
    },
    "tags": []
   },
   "outputs": [],
   "source": [
    "word_count = {}\n",
    "\n",
    "for word in tokens1:\n",
    "    \n",
    "    if word not in word_count.keys():\n",
    "        word_count[word] = 1\n",
    "    else:\n",
    "        word_count[word] += 1\n",
    "        \n",
    "print(f'Bag of Words: \\n{tokens1} => {word_count}')"
   ]
  },
  {
   "attachments": {
    "term_frequency_after_stopword_removal-min.png": {
     "image/png": "[encoded data removed]"
    }
   },
   "cell_type": "markdown",
   "metadata": {
    "papermill": {
     "duration": 0.126721,
     "end_time": "2021-04-17T06:49:02.643738",
     "exception": false,
     "start_time": "2021-04-17T06:49:02.517017",
     "status": "completed"
    },
    "tags": []
   },
   "source": [
    "# **Term Frequency**\n",
    "\n",
    "TF – Term Frequency is described as the number of times that a term occurs in a document. It considers all the terms of equal importance. For example, the word “Fruit” appears five times in a document of 100 words, then the TF for “Fruit” is 5/100 = 0.05.\n",
    "\n",
    "![term_frequency_after_stopword_removal-min.png](attachment:term_frequency_after_stopword_removal-min.png)"
   ]
  },
  {
   "cell_type": "code",
   "execution_count": null,
   "metadata": {
    "execution": {
     "iopub.execute_input": "2021-04-17T06:49:02.901656Z",
     "iopub.status.busy": "2021-04-17T06:49:02.900704Z",
     "iopub.status.idle": "2021-04-17T06:49:02.903855Z",
     "shell.execute_reply": "2021-04-17T06:49:02.903335Z"
    },
    "papermill": {
     "duration": 0.133596,
     "end_time": "2021-04-17T06:49:02.903962",
     "exception": false,
     "start_time": "2021-04-17T06:49:02.770366",
     "status": "completed"
    },
    "tags": []
   },
   "outputs": [],
   "source": [
    "def color(val):\n",
    "    \n",
    "    color = 'hotpink' if val > 0 else ''\n",
    "    return 'background-color: %s' % color"
   ]
  },
  {
   "cell_type": "code",
   "execution_count": null,
   "metadata": {
    "execution": {
     "iopub.execute_input": "2021-04-17T06:49:03.167473Z",
     "iopub.status.busy": "2021-04-17T06:49:03.166760Z",
     "iopub.status.idle": "2021-04-17T06:49:03.371432Z",
     "shell.execute_reply": "2021-04-17T06:49:03.370904Z"
    },
    "papermill": {
     "duration": 0.340123,
     "end_time": "2021-04-17T06:49:03.371525",
     "exception": false,
     "start_time": "2021-04-17T06:49:03.031402",
     "status": "completed"
    },
    "tags": []
   },
   "outputs": [],
   "source": [
    "count_vectorizer = CountVectorizer()\n",
    "text_list = list(text[0:10])\n",
    "\n",
    "tf = count_vectorizer.fit_transform(text_list)\n",
    "\n",
    "tf_feature_names = count_vectorizer.get_feature_names_out()\n",
    "\n",
    "print('Term Frequency of Document')\n",
    "df = pd.DataFrame(tf.toarray(), columns = tf_feature_names) / len(tf_feature_names)\n",
    "df.style.set_caption(\"Term Frequency of Document\")\n",
    "df.style.applymap(color)"
   ]
  },
  {
   "attachments": {
    "0_7r2GKRepjh5Fl41r-min.png": {
     "image/png": "[encoded data removed]"
    }
   },
   "cell_type": "markdown",
   "metadata": {
    "papermill": {
     "duration": 0.124289,
     "end_time": "2021-04-17T06:49:03.632003",
     "exception": false,
     "start_time": "2021-04-17T06:49:03.507714",
     "status": "completed"
    },
    "tags": []
   },
   "source": [
    "# **Term Frequency - Inverse Document Frequency**\n",
    "\n",
    "TF-IDF – Term Frequency-Inverse Document Frequency is described as the importance of a word in a document, which is proportional to the number of times the word appears in the document. For example, the word “Fruit” appears in 100 of 10000 documents and the term frequency is 5 then the TF-IDF is 0.05 * log(10000/100) = 5 * 2 = 10.\n",
    "\n",
    "![0_7r2GKRepjh5Fl41r-min.png](attachment:0_7r2GKRepjh5Fl41r-min.png)"
   ]
  },
  {
   "cell_type": "code",
   "execution_count": null,
   "metadata": {
    "execution": {
     "iopub.execute_input": "2021-04-17T06:49:04.046690Z",
     "iopub.status.busy": "2021-04-17T06:49:04.031490Z",
     "iopub.status.idle": "2021-04-17T06:49:04.080280Z",
     "shell.execute_reply": "2021-04-17T06:49:04.080713Z"
    },
    "papermill": {
     "duration": 0.329874,
     "end_time": "2021-04-17T06:49:04.080834",
     "exception": false,
     "start_time": "2021-04-17T06:49:03.750960",
     "status": "completed"
    },
    "scrolled": false,
    "tags": []
   },
   "outputs": [],
   "source": [
    "tfidf_vectorizer = TfidfVectorizer()\n",
    "text_list = list(text[0:10])\n",
    "\n",
    "tfidf = tfidf_vectorizer.fit_transform(text_list)\n",
    "\n",
    "tfidf_feature_names = tfidf_vectorizer.get_feature_names_out()\n",
    "\n",
    "print('Term Frequency - Inverse Document Frequency of Document')\n",
    "df = pd.DataFrame(tfidf.toarray(), columns = tfidf_feature_names)\n",
    "df.style.set_caption(\"Term Frequency - Inverse Document Frequency of Document\")\n",
    "df.style.applymap(color)"
   ]
  },
  {
   "cell_type": "markdown",
   "metadata": {},
   "source": [
    "Applying all the transformations to text data set using nltk.\n"
   ]
  },
  {
   "cell_type": "code",
   "execution_count": null,
   "metadata": {},
   "outputs": [],
   "source": []
  }
 ],
 "metadata": {
  "kernelspec": {
   "display_name": "Python 3 (ipykernel)",
   "language": "python",
   "name": "python3"
  },
  "language_info": {
   "codemirror_mode": {
    "name": "ipython",
    "version": 3
   },
   "file_extension": ".py",
   "mimetype": "text/x-python",
   "name": "python",
   "nbconvert_exporter": "python",
   "pygments_lexer": "ipython3",
   "version": "3.11.5"
  },
  "papermill": {
   "duration": 199.459008,
   "end_time": "2021-04-17T06:50:46.796497",
   "environment_variables": {},
   "exception": null,
   "input_path": "__notebook__.ipynb",
   "output_path": "__notebook__.ipynb",
   "parameters": {},
   "start_time": "2021-04-17T06:47:27.337489",
   "version": "2.1.0"
  }
 },
 "nbformat": 4,
 "nbformat_minor": 4
}
